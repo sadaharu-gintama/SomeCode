{
 "cells": [
  {
   "cell_type": "code",
   "execution_count": 1,
   "metadata": {
    "collapsed": true
   },
   "outputs": [],
   "source": [
    "import pandas as pd\n",
    "import numpy as np\n",
    "import matplotlib.pyplot as plt\n",
    "%matplotlib inline"
   ]
  },
  {
   "cell_type": "code",
   "execution_count": 2,
   "metadata": {
    "collapsed": false
   },
   "outputs": [],
   "source": [
    "prices = pd.read_csv('stock_px.csv', index_col = [0], usecols = [0, 2, 5, 8, 9])\n",
    "volume = pd.read_csv('volume.csv', index_col = [0], usecols=[0,2,5,9])\n",
    "prices = prices[5443 : 5450]\n",
    "volume = volume[5443 : 5448]"
   ]
  },
  {
   "cell_type": "markdown",
   "metadata": {},
   "source": [
    "# 数据规整化方面的话题"
   ]
  },
  {
   "cell_type": "markdown",
   "metadata": {},
   "source": [
    "## 时间序列以及截面对齐"
   ]
  },
  {
   "cell_type": "code",
   "execution_count": 3,
   "metadata": {
    "collapsed": false
   },
   "outputs": [
    {
     "data": {
      "text/html": [
       "<div>\n",
       "<table border=\"1\" class=\"dataframe\">\n",
       "  <thead>\n",
       "    <tr style=\"text-align: right;\">\n",
       "      <th></th>\n",
       "      <th>AAPL</th>\n",
       "      <th>JNJ</th>\n",
       "      <th>SPX</th>\n",
       "      <th>XOM</th>\n",
       "    </tr>\n",
       "  </thead>\n",
       "  <tbody>\n",
       "    <tr>\n",
       "      <th>2011-09-06 00:00:00</th>\n",
       "      <td>379.74</td>\n",
       "      <td>64.64</td>\n",
       "      <td>1165.24</td>\n",
       "      <td>71.15</td>\n",
       "    </tr>\n",
       "    <tr>\n",
       "      <th>2011-09-07 00:00:00</th>\n",
       "      <td>383.93</td>\n",
       "      <td>65.43</td>\n",
       "      <td>1198.62</td>\n",
       "      <td>73.65</td>\n",
       "    </tr>\n",
       "    <tr>\n",
       "      <th>2011-09-08 00:00:00</th>\n",
       "      <td>384.14</td>\n",
       "      <td>64.95</td>\n",
       "      <td>1185.90</td>\n",
       "      <td>72.82</td>\n",
       "    </tr>\n",
       "    <tr>\n",
       "      <th>2011-09-09 00:00:00</th>\n",
       "      <td>377.48</td>\n",
       "      <td>63.64</td>\n",
       "      <td>1154.23</td>\n",
       "      <td>71.01</td>\n",
       "    </tr>\n",
       "    <tr>\n",
       "      <th>2011-09-12 00:00:00</th>\n",
       "      <td>379.94</td>\n",
       "      <td>63.59</td>\n",
       "      <td>1162.27</td>\n",
       "      <td>71.84</td>\n",
       "    </tr>\n",
       "    <tr>\n",
       "      <th>2011-09-13 00:00:00</th>\n",
       "      <td>384.62</td>\n",
       "      <td>63.61</td>\n",
       "      <td>1172.87</td>\n",
       "      <td>71.65</td>\n",
       "    </tr>\n",
       "    <tr>\n",
       "      <th>2011-09-14 00:00:00</th>\n",
       "      <td>389.30</td>\n",
       "      <td>63.73</td>\n",
       "      <td>1188.68</td>\n",
       "      <td>72.64</td>\n",
       "    </tr>\n",
       "  </tbody>\n",
       "</table>\n",
       "</div>"
      ],
      "text/plain": [
       "                       AAPL    JNJ      SPX    XOM\n",
       "2011-09-06 00:00:00  379.74  64.64  1165.24  71.15\n",
       "2011-09-07 00:00:00  383.93  65.43  1198.62  73.65\n",
       "2011-09-08 00:00:00  384.14  64.95  1185.90  72.82\n",
       "2011-09-09 00:00:00  377.48  63.64  1154.23  71.01\n",
       "2011-09-12 00:00:00  379.94  63.59  1162.27  71.84\n",
       "2011-09-13 00:00:00  384.62  63.61  1172.87  71.65\n",
       "2011-09-14 00:00:00  389.30  63.73  1188.68  72.64"
      ]
     },
     "execution_count": 3,
     "metadata": {},
     "output_type": "execute_result"
    }
   ],
   "source": [
    "prices"
   ]
  },
  {
   "cell_type": "code",
   "execution_count": 4,
   "metadata": {
    "collapsed": false,
    "scrolled": true
   },
   "outputs": [
    {
     "data": {
      "text/html": [
       "<div>\n",
       "<table border=\"1\" class=\"dataframe\">\n",
       "  <thead>\n",
       "    <tr style=\"text-align: right;\">\n",
       "      <th></th>\n",
       "      <th>AAPL</th>\n",
       "      <th>JNJ</th>\n",
       "      <th>XOM</th>\n",
       "    </tr>\n",
       "  </thead>\n",
       "  <tbody>\n",
       "    <tr>\n",
       "      <th>2011-09-06 00:00:00</th>\n",
       "      <td>18173500.0</td>\n",
       "      <td>15848300.0</td>\n",
       "      <td>25416300.0</td>\n",
       "    </tr>\n",
       "    <tr>\n",
       "      <th>2011-09-07 00:00:00</th>\n",
       "      <td>12492000.0</td>\n",
       "      <td>10759700.0</td>\n",
       "      <td>23108400.0</td>\n",
       "    </tr>\n",
       "    <tr>\n",
       "      <th>2011-09-08 00:00:00</th>\n",
       "      <td>14839800.0</td>\n",
       "      <td>15551500.0</td>\n",
       "      <td>22434800.0</td>\n",
       "    </tr>\n",
       "    <tr>\n",
       "      <th>2011-09-09 00:00:00</th>\n",
       "      <td>20171900.0</td>\n",
       "      <td>17008200.0</td>\n",
       "      <td>27969100.0</td>\n",
       "    </tr>\n",
       "    <tr>\n",
       "      <th>2011-09-12 00:00:00</th>\n",
       "      <td>16697300.0</td>\n",
       "      <td>13448200.0</td>\n",
       "      <td>26205800.0</td>\n",
       "    </tr>\n",
       "  </tbody>\n",
       "</table>\n",
       "</div>"
      ],
      "text/plain": [
       "                           AAPL         JNJ         XOM\n",
       "2011-09-06 00:00:00  18173500.0  15848300.0  25416300.0\n",
       "2011-09-07 00:00:00  12492000.0  10759700.0  23108400.0\n",
       "2011-09-08 00:00:00  14839800.0  15551500.0  22434800.0\n",
       "2011-09-09 00:00:00  20171900.0  17008200.0  27969100.0\n",
       "2011-09-12 00:00:00  16697300.0  13448200.0  26205800.0"
      ]
     },
     "execution_count": 4,
     "metadata": {},
     "output_type": "execute_result"
    }
   ],
   "source": [
    "volume"
   ]
  },
  {
   "cell_type": "code",
   "execution_count": 5,
   "metadata": {
    "collapsed": false
   },
   "outputs": [
    {
     "data": {
      "text/html": [
       "<div>\n",
       "<table border=\"1\" class=\"dataframe\">\n",
       "  <thead>\n",
       "    <tr style=\"text-align: right;\">\n",
       "      <th></th>\n",
       "      <th>AAPL</th>\n",
       "      <th>JNJ</th>\n",
       "      <th>SPX</th>\n",
       "      <th>XOM</th>\n",
       "    </tr>\n",
       "  </thead>\n",
       "  <tbody>\n",
       "    <tr>\n",
       "      <th>2011-09-06 00:00:00</th>\n",
       "      <td>6.901205e+09</td>\n",
       "      <td>1.024434e+09</td>\n",
       "      <td>NaN</td>\n",
       "      <td>1.808370e+09</td>\n",
       "    </tr>\n",
       "    <tr>\n",
       "      <th>2011-09-07 00:00:00</th>\n",
       "      <td>4.796054e+09</td>\n",
       "      <td>7.040072e+08</td>\n",
       "      <td>NaN</td>\n",
       "      <td>1.701934e+09</td>\n",
       "    </tr>\n",
       "    <tr>\n",
       "      <th>2011-09-08 00:00:00</th>\n",
       "      <td>5.700561e+09</td>\n",
       "      <td>1.010070e+09</td>\n",
       "      <td>NaN</td>\n",
       "      <td>1.633702e+09</td>\n",
       "    </tr>\n",
       "    <tr>\n",
       "      <th>2011-09-09 00:00:00</th>\n",
       "      <td>7.614489e+09</td>\n",
       "      <td>1.082402e+09</td>\n",
       "      <td>NaN</td>\n",
       "      <td>1.986086e+09</td>\n",
       "    </tr>\n",
       "    <tr>\n",
       "      <th>2011-09-12 00:00:00</th>\n",
       "      <td>6.343972e+09</td>\n",
       "      <td>8.551710e+08</td>\n",
       "      <td>NaN</td>\n",
       "      <td>1.882625e+09</td>\n",
       "    </tr>\n",
       "    <tr>\n",
       "      <th>2011-09-13 00:00:00</th>\n",
       "      <td>NaN</td>\n",
       "      <td>NaN</td>\n",
       "      <td>NaN</td>\n",
       "      <td>NaN</td>\n",
       "    </tr>\n",
       "    <tr>\n",
       "      <th>2011-09-14 00:00:00</th>\n",
       "      <td>NaN</td>\n",
       "      <td>NaN</td>\n",
       "      <td>NaN</td>\n",
       "      <td>NaN</td>\n",
       "    </tr>\n",
       "  </tbody>\n",
       "</table>\n",
       "</div>"
      ],
      "text/plain": [
       "                             AAPL           JNJ  SPX           XOM\n",
       "2011-09-06 00:00:00  6.901205e+09  1.024434e+09  NaN  1.808370e+09\n",
       "2011-09-07 00:00:00  4.796054e+09  7.040072e+08  NaN  1.701934e+09\n",
       "2011-09-08 00:00:00  5.700561e+09  1.010070e+09  NaN  1.633702e+09\n",
       "2011-09-09 00:00:00  7.614489e+09  1.082402e+09  NaN  1.986086e+09\n",
       "2011-09-12 00:00:00  6.343972e+09  8.551710e+08  NaN  1.882625e+09\n",
       "2011-09-13 00:00:00           NaN           NaN  NaN           NaN\n",
       "2011-09-14 00:00:00           NaN           NaN  NaN           NaN"
      ]
     },
     "execution_count": 5,
     "metadata": {},
     "output_type": "execute_result"
    }
   ],
   "source": [
    "prices * volume"
   ]
  },
  {
   "cell_type": "code",
   "execution_count": 6,
   "metadata": {
    "collapsed": true
   },
   "outputs": [],
   "source": [
    "vwap = (prices * volume).sum() / volume.sum()"
   ]
  },
  {
   "cell_type": "code",
   "execution_count": 7,
   "metadata": {
    "collapsed": false
   },
   "outputs": [
    {
     "data": {
      "text/plain": [
       "AAPL    380.655181\n",
       "JNJ      64.394769\n",
       "SPX            NaN\n",
       "XOM      72.024288\n",
       "dtype: float64"
      ]
     },
     "execution_count": 7,
     "metadata": {},
     "output_type": "execute_result"
    }
   ],
   "source": [
    "vwap"
   ]
  },
  {
   "cell_type": "code",
   "execution_count": 8,
   "metadata": {
    "collapsed": false
   },
   "outputs": [
    {
     "data": {
      "text/plain": [
       "AAPL    380.655181\n",
       "JNJ      64.394769\n",
       "XOM      72.024288\n",
       "dtype: float64"
      ]
     },
     "execution_count": 8,
     "metadata": {},
     "output_type": "execute_result"
    }
   ],
   "source": [
    "vwap.dropna()"
   ]
  },
  {
   "cell_type": "code",
   "execution_count": 9,
   "metadata": {
    "collapsed": false
   },
   "outputs": [
    {
     "data": {
      "text/plain": [
       "(                       AAPL    JNJ    XOM\n",
       " 2011-09-06 00:00:00  379.74  64.64  71.15\n",
       " 2011-09-07 00:00:00  383.93  65.43  73.65\n",
       " 2011-09-08 00:00:00  384.14  64.95  72.82\n",
       " 2011-09-09 00:00:00  377.48  63.64  71.01\n",
       " 2011-09-12 00:00:00  379.94  63.59  71.84,\n",
       "                            AAPL         JNJ         XOM\n",
       " 2011-09-06 00:00:00  18173500.0  15848300.0  25416300.0\n",
       " 2011-09-07 00:00:00  12492000.0  10759700.0  23108400.0\n",
       " 2011-09-08 00:00:00  14839800.0  15551500.0  22434800.0\n",
       " 2011-09-09 00:00:00  20171900.0  17008200.0  27969100.0\n",
       " 2011-09-12 00:00:00  16697300.0  13448200.0  26205800.0)"
      ]
     },
     "execution_count": 9,
     "metadata": {},
     "output_type": "execute_result"
    }
   ],
   "source": [
    "prices.align(volume, join = 'inner')"
   ]
  },
  {
   "cell_type": "code",
   "execution_count": 10,
   "metadata": {
    "collapsed": true
   },
   "outputs": [],
   "source": [
    "s1 = pd.Series(range(3), index = ['a', 'b', 'c'])\n",
    "s2 = pd.Series(range(4), index = ['d', 'b', 'c', 'a'])\n",
    "s3 = pd.Series(range(3), index = ['f', 'a', 'c'])"
   ]
  },
  {
   "cell_type": "code",
   "execution_count": 11,
   "metadata": {
    "collapsed": false
   },
   "outputs": [
    {
     "data": {
      "text/html": [
       "<div>\n",
       "<table border=\"1\" class=\"dataframe\">\n",
       "  <thead>\n",
       "    <tr style=\"text-align: right;\">\n",
       "      <th></th>\n",
       "      <th>one</th>\n",
       "      <th>three</th>\n",
       "      <th>two</th>\n",
       "    </tr>\n",
       "  </thead>\n",
       "  <tbody>\n",
       "    <tr>\n",
       "      <th>a</th>\n",
       "      <td>0.0</td>\n",
       "      <td>1.0</td>\n",
       "      <td>3.0</td>\n",
       "    </tr>\n",
       "    <tr>\n",
       "      <th>b</th>\n",
       "      <td>1.0</td>\n",
       "      <td>NaN</td>\n",
       "      <td>1.0</td>\n",
       "    </tr>\n",
       "    <tr>\n",
       "      <th>c</th>\n",
       "      <td>2.0</td>\n",
       "      <td>2.0</td>\n",
       "      <td>2.0</td>\n",
       "    </tr>\n",
       "    <tr>\n",
       "      <th>d</th>\n",
       "      <td>NaN</td>\n",
       "      <td>NaN</td>\n",
       "      <td>0.0</td>\n",
       "    </tr>\n",
       "    <tr>\n",
       "      <th>f</th>\n",
       "      <td>NaN</td>\n",
       "      <td>0.0</td>\n",
       "      <td>NaN</td>\n",
       "    </tr>\n",
       "  </tbody>\n",
       "</table>\n",
       "</div>"
      ],
      "text/plain": [
       "   one  three  two\n",
       "a  0.0    1.0  3.0\n",
       "b  1.0    NaN  1.0\n",
       "c  2.0    2.0  2.0\n",
       "d  NaN    NaN  0.0\n",
       "f  NaN    0.0  NaN"
      ]
     },
     "execution_count": 11,
     "metadata": {},
     "output_type": "execute_result"
    }
   ],
   "source": [
    "pd.DataFrame({'one': s1, 'two': s2, 'three': s3})"
   ]
  },
  {
   "cell_type": "code",
   "execution_count": 12,
   "metadata": {
    "collapsed": false
   },
   "outputs": [
    {
     "data": {
      "text/html": [
       "<div>\n",
       "<table border=\"1\" class=\"dataframe\">\n",
       "  <thead>\n",
       "    <tr style=\"text-align: right;\">\n",
       "      <th></th>\n",
       "      <th>one</th>\n",
       "      <th>three</th>\n",
       "      <th>two</th>\n",
       "    </tr>\n",
       "  </thead>\n",
       "  <tbody>\n",
       "    <tr>\n",
       "      <th>f</th>\n",
       "      <td>NaN</td>\n",
       "      <td>0.0</td>\n",
       "      <td>NaN</td>\n",
       "    </tr>\n",
       "    <tr>\n",
       "      <th>a</th>\n",
       "      <td>0.0</td>\n",
       "      <td>1.0</td>\n",
       "      <td>3.0</td>\n",
       "    </tr>\n",
       "    <tr>\n",
       "      <th>c</th>\n",
       "      <td>2.0</td>\n",
       "      <td>2.0</td>\n",
       "      <td>2.0</td>\n",
       "    </tr>\n",
       "    <tr>\n",
       "      <th>e</th>\n",
       "      <td>NaN</td>\n",
       "      <td>NaN</td>\n",
       "      <td>NaN</td>\n",
       "    </tr>\n",
       "  </tbody>\n",
       "</table>\n",
       "</div>"
      ],
      "text/plain": [
       "   one  three  two\n",
       "f  NaN    0.0  NaN\n",
       "a  0.0    1.0  3.0\n",
       "c  2.0    2.0  2.0\n",
       "e  NaN    NaN  NaN"
      ]
     },
     "execution_count": 12,
     "metadata": {},
     "output_type": "execute_result"
    }
   ],
   "source": [
    "pd.DataFrame({'one': s1, 'two': s2, 'three': s3}, index = list('face'))"
   ]
  },
  {
   "cell_type": "markdown",
   "metadata": {},
   "source": [
    "## 频率不同的时间序列的运算"
   ]
  },
  {
   "cell_type": "code",
   "execution_count": 13,
   "metadata": {
    "collapsed": true
   },
   "outputs": [],
   "source": [
    "ts = pd.Series(np.random.randn(3), index = pd.date_range('2012-6-13', periods = 3, freq = 'W-WED'))"
   ]
  },
  {
   "cell_type": "code",
   "execution_count": 14,
   "metadata": {
    "collapsed": false
   },
   "outputs": [
    {
     "data": {
      "text/plain": [
       "2012-06-13   -2.093740\n",
       "2012-06-20   -0.829856\n",
       "2012-06-27    2.874107\n",
       "Freq: W-WED, dtype: float64"
      ]
     },
     "execution_count": 14,
     "metadata": {},
     "output_type": "execute_result"
    }
   ],
   "source": [
    "ts"
   ]
  },
  {
   "cell_type": "code",
   "execution_count": 15,
   "metadata": {
    "collapsed": false
   },
   "outputs": [
    {
     "data": {
      "text/plain": [
       "2012-06-13   -2.093740\n",
       "2012-06-14   -2.093740\n",
       "2012-06-15   -2.093740\n",
       "2012-06-18   -2.093740\n",
       "2012-06-19   -2.093740\n",
       "2012-06-20   -0.829856\n",
       "2012-06-21   -0.829856\n",
       "2012-06-22   -0.829856\n",
       "2012-06-25   -0.829856\n",
       "2012-06-26   -0.829856\n",
       "2012-06-27    2.874107\n",
       "Freq: B, dtype: float64"
      ]
     },
     "execution_count": 15,
     "metadata": {},
     "output_type": "execute_result"
    }
   ],
   "source": [
    "ts.resample('B').ffill()"
   ]
  },
  {
   "cell_type": "code",
   "execution_count": 16,
   "metadata": {
    "collapsed": true
   },
   "outputs": [],
   "source": [
    "dates = pd.DatetimeIndex(['2012-6-12', '2012-6-17', '2012-6-18',\n",
    "                          '2012-6-21', '2012-6-22', '2012-6-29'])"
   ]
  },
  {
   "cell_type": "code",
   "execution_count": 17,
   "metadata": {
    "collapsed": true
   },
   "outputs": [],
   "source": [
    "ts2 = pd.Series(np.random.randn(6), index = dates)"
   ]
  },
  {
   "cell_type": "code",
   "execution_count": 18,
   "metadata": {
    "collapsed": false
   },
   "outputs": [
    {
     "data": {
      "text/plain": [
       "2012-06-12    0.369007\n",
       "2012-06-17   -1.360450\n",
       "2012-06-18   -1.221469\n",
       "2012-06-21    1.862867\n",
       "2012-06-22   -0.462254\n",
       "2012-06-29   -0.947792\n",
       "dtype: float64"
      ]
     },
     "execution_count": 18,
     "metadata": {},
     "output_type": "execute_result"
    }
   ],
   "source": [
    "ts2"
   ]
  },
  {
   "cell_type": "code",
   "execution_count": 19,
   "metadata": {
    "collapsed": false
   },
   "outputs": [
    {
     "data": {
      "text/plain": [
       "2012-06-12         NaN\n",
       "2012-06-17   -2.093740\n",
       "2012-06-18   -2.093740\n",
       "2012-06-21   -0.829856\n",
       "2012-06-22   -0.829856\n",
       "2012-06-29    2.874107\n",
       "dtype: float64"
      ]
     },
     "execution_count": 19,
     "metadata": {},
     "output_type": "execute_result"
    }
   ],
   "source": [
    "ts.reindex(ts2.index, method = 'ffill')"
   ]
  },
  {
   "cell_type": "code",
   "execution_count": 20,
   "metadata": {
    "collapsed": false
   },
   "outputs": [
    {
     "data": {
      "text/plain": [
       "2012-06-12         NaN\n",
       "2012-06-17   -3.454190\n",
       "2012-06-18   -3.315210\n",
       "2012-06-21    1.033011\n",
       "2012-06-22   -1.292110\n",
       "2012-06-29    1.926314\n",
       "dtype: float64"
      ]
     },
     "execution_count": 20,
     "metadata": {},
     "output_type": "execute_result"
    }
   ],
   "source": [
    "ts2 + ts.reindex(ts2.index, method = 'ffill')"
   ]
  },
  {
   "cell_type": "markdown",
   "metadata": {},
   "source": [
    "### 使用Period"
   ]
  },
  {
   "cell_type": "code",
   "execution_count": 21,
   "metadata": {
    "collapsed": true
   },
   "outputs": [],
   "source": [
    "gdp = pd.Series([1.78, 1.94, 2.08, 2.01, 2.15, 2.31, 2.46], \n",
    "                index = pd.period_range('1984Q2', periods=7, freq = 'Q-SEP'))"
   ]
  },
  {
   "cell_type": "code",
   "execution_count": 22,
   "metadata": {
    "collapsed": true
   },
   "outputs": [],
   "source": [
    "infl = pd.Series([0.025, 0.045, 0.037, 0.04], \n",
    "                 index = pd.period_range('1982', periods = 4, freq = 'A-DEC'))"
   ]
  },
  {
   "cell_type": "code",
   "execution_count": 23,
   "metadata": {
    "collapsed": false
   },
   "outputs": [
    {
     "data": {
      "text/plain": [
       "1984Q2    1.78\n",
       "1984Q3    1.94\n",
       "1984Q4    2.08\n",
       "1985Q1    2.01\n",
       "1985Q2    2.15\n",
       "1985Q3    2.31\n",
       "1985Q4    2.46\n",
       "Freq: Q-SEP, dtype: float64"
      ]
     },
     "execution_count": 23,
     "metadata": {},
     "output_type": "execute_result"
    }
   ],
   "source": [
    "gdp"
   ]
  },
  {
   "cell_type": "code",
   "execution_count": 24,
   "metadata": {
    "collapsed": false
   },
   "outputs": [
    {
     "data": {
      "text/plain": [
       "1982    0.025\n",
       "1983    0.045\n",
       "1984    0.037\n",
       "1985    0.040\n",
       "Freq: A-DEC, dtype: float64"
      ]
     },
     "execution_count": 24,
     "metadata": {},
     "output_type": "execute_result"
    }
   ],
   "source": [
    "infl"
   ]
  },
  {
   "cell_type": "code",
   "execution_count": 25,
   "metadata": {
    "collapsed": true
   },
   "outputs": [],
   "source": [
    "infl_q = infl.asfreq('Q-SEP', how = 'end')"
   ]
  },
  {
   "cell_type": "code",
   "execution_count": 26,
   "metadata": {
    "collapsed": false
   },
   "outputs": [
    {
     "data": {
      "text/plain": [
       "1984Q2    0.045\n",
       "1984Q3    0.045\n",
       "1984Q4    0.045\n",
       "1985Q1    0.037\n",
       "1985Q2    0.037\n",
       "1985Q3    0.037\n",
       "1985Q4    0.037\n",
       "Freq: Q-SEP, dtype: float64"
      ]
     },
     "execution_count": 26,
     "metadata": {},
     "output_type": "execute_result"
    }
   ],
   "source": [
    "infl_q.reindex(gdp.index, method = 'ffill')"
   ]
  },
  {
   "cell_type": "markdown",
   "metadata": {},
   "source": [
    "## 时间和“最当前”数据选取"
   ]
  },
  {
   "cell_type": "code",
   "execution_count": 27,
   "metadata": {
    "collapsed": true
   },
   "outputs": [],
   "source": [
    "rng = pd.date_range('2012-06-01 09:30', '2012-06-01 15:59', freq = 'T')"
   ]
  },
  {
   "cell_type": "code",
   "execution_count": 28,
   "metadata": {
    "collapsed": true
   },
   "outputs": [],
   "source": [
    "rng = rng.append([rng + pd.offsets.BDay(i) for i in range(1, 4)])"
   ]
  },
  {
   "cell_type": "code",
   "execution_count": 29,
   "metadata": {
    "collapsed": true
   },
   "outputs": [],
   "source": [
    "ts = pd.Series(np.arange(len(rng), dtype = float), index = rng)"
   ]
  },
  {
   "cell_type": "code",
   "execution_count": 30,
   "metadata": {
    "collapsed": false
   },
   "outputs": [
    {
     "data": {
      "text/plain": [
       "2012-06-01 09:30:00       0.0\n",
       "2012-06-01 09:31:00       1.0\n",
       "2012-06-01 09:32:00       2.0\n",
       "2012-06-01 09:33:00       3.0\n",
       "2012-06-01 09:34:00       4.0\n",
       "2012-06-01 09:35:00       5.0\n",
       "2012-06-01 09:36:00       6.0\n",
       "2012-06-01 09:37:00       7.0\n",
       "2012-06-01 09:38:00       8.0\n",
       "2012-06-01 09:39:00       9.0\n",
       "2012-06-01 09:40:00      10.0\n",
       "2012-06-01 09:41:00      11.0\n",
       "2012-06-01 09:42:00      12.0\n",
       "2012-06-01 09:43:00      13.0\n",
       "2012-06-01 09:44:00      14.0\n",
       "2012-06-01 09:45:00      15.0\n",
       "2012-06-01 09:46:00      16.0\n",
       "2012-06-01 09:47:00      17.0\n",
       "2012-06-01 09:48:00      18.0\n",
       "2012-06-01 09:49:00      19.0\n",
       "2012-06-01 09:50:00      20.0\n",
       "2012-06-01 09:51:00      21.0\n",
       "2012-06-01 09:52:00      22.0\n",
       "2012-06-01 09:53:00      23.0\n",
       "2012-06-01 09:54:00      24.0\n",
       "2012-06-01 09:55:00      25.0\n",
       "2012-06-01 09:56:00      26.0\n",
       "2012-06-01 09:57:00      27.0\n",
       "2012-06-01 09:58:00      28.0\n",
       "2012-06-01 09:59:00      29.0\n",
       "                        ...  \n",
       "2012-06-06 15:30:00    1530.0\n",
       "2012-06-06 15:31:00    1531.0\n",
       "2012-06-06 15:32:00    1532.0\n",
       "2012-06-06 15:33:00    1533.0\n",
       "2012-06-06 15:34:00    1534.0\n",
       "2012-06-06 15:35:00    1535.0\n",
       "2012-06-06 15:36:00    1536.0\n",
       "2012-06-06 15:37:00    1537.0\n",
       "2012-06-06 15:38:00    1538.0\n",
       "2012-06-06 15:39:00    1539.0\n",
       "2012-06-06 15:40:00    1540.0\n",
       "2012-06-06 15:41:00    1541.0\n",
       "2012-06-06 15:42:00    1542.0\n",
       "2012-06-06 15:43:00    1543.0\n",
       "2012-06-06 15:44:00    1544.0\n",
       "2012-06-06 15:45:00    1545.0\n",
       "2012-06-06 15:46:00    1546.0\n",
       "2012-06-06 15:47:00    1547.0\n",
       "2012-06-06 15:48:00    1548.0\n",
       "2012-06-06 15:49:00    1549.0\n",
       "2012-06-06 15:50:00    1550.0\n",
       "2012-06-06 15:51:00    1551.0\n",
       "2012-06-06 15:52:00    1552.0\n",
       "2012-06-06 15:53:00    1553.0\n",
       "2012-06-06 15:54:00    1554.0\n",
       "2012-06-06 15:55:00    1555.0\n",
       "2012-06-06 15:56:00    1556.0\n",
       "2012-06-06 15:57:00    1557.0\n",
       "2012-06-06 15:58:00    1558.0\n",
       "2012-06-06 15:59:00    1559.0\n",
       "dtype: float64"
      ]
     },
     "execution_count": 30,
     "metadata": {},
     "output_type": "execute_result"
    }
   ],
   "source": [
    "ts"
   ]
  },
  {
   "cell_type": "code",
   "execution_count": 31,
   "metadata": {
    "collapsed": true
   },
   "outputs": [],
   "source": [
    "from datetime import time"
   ]
  },
  {
   "cell_type": "code",
   "execution_count": 32,
   "metadata": {
    "collapsed": false
   },
   "outputs": [
    {
     "data": {
      "text/plain": [
       "2012-06-01 10:00:00      30.0\n",
       "2012-06-04 10:00:00     420.0\n",
       "2012-06-05 10:00:00     810.0\n",
       "2012-06-06 10:00:00    1200.0\n",
       "dtype: float64"
      ]
     },
     "execution_count": 32,
     "metadata": {},
     "output_type": "execute_result"
    }
   ],
   "source": [
    "ts[time(10, 0)]"
   ]
  },
  {
   "cell_type": "code",
   "execution_count": 33,
   "metadata": {
    "collapsed": false
   },
   "outputs": [
    {
     "data": {
      "text/plain": [
       "2012-06-01 10:00:00      30.0\n",
       "2012-06-04 10:00:00     420.0\n",
       "2012-06-05 10:00:00     810.0\n",
       "2012-06-06 10:00:00    1200.0\n",
       "dtype: float64"
      ]
     },
     "execution_count": 33,
     "metadata": {},
     "output_type": "execute_result"
    }
   ],
   "source": [
    "ts.at_time(time(10, 0))"
   ]
  },
  {
   "cell_type": "code",
   "execution_count": 34,
   "metadata": {
    "collapsed": false
   },
   "outputs": [
    {
     "data": {
      "text/plain": [
       "2012-06-01 10:00:00      30.0\n",
       "2012-06-01 10:01:00      31.0\n",
       "2012-06-04 10:00:00     420.0\n",
       "2012-06-04 10:01:00     421.0\n",
       "2012-06-05 10:00:00     810.0\n",
       "2012-06-05 10:01:00     811.0\n",
       "2012-06-06 10:00:00    1200.0\n",
       "2012-06-06 10:01:00    1201.0\n",
       "dtype: float64"
      ]
     },
     "execution_count": 34,
     "metadata": {},
     "output_type": "execute_result"
    }
   ],
   "source": [
    "ts.between_time(time(10, 0), time(10, 1))"
   ]
  },
  {
   "cell_type": "code",
   "execution_count": 35,
   "metadata": {
    "collapsed": true
   },
   "outputs": [],
   "source": [
    "indexer = np.sort(np.random.permutation(len(ts))[700:])"
   ]
  },
  {
   "cell_type": "code",
   "execution_count": 36,
   "metadata": {
    "collapsed": true
   },
   "outputs": [],
   "source": [
    "irr_ts = ts.copy()"
   ]
  },
  {
   "cell_type": "code",
   "execution_count": 37,
   "metadata": {
    "collapsed": false
   },
   "outputs": [],
   "source": [
    "irr_ts[indexer] = np.nan"
   ]
  },
  {
   "cell_type": "code",
   "execution_count": 38,
   "metadata": {
    "collapsed": false
   },
   "outputs": [
    {
     "data": {
      "text/plain": [
       "2012-06-01 09:50:00    20.0\n",
       "2012-06-01 09:51:00    21.0\n",
       "2012-06-01 09:52:00    22.0\n",
       "2012-06-01 09:53:00     NaN\n",
       "2012-06-01 09:54:00     NaN\n",
       "2012-06-01 09:55:00     NaN\n",
       "2012-06-01 09:56:00     NaN\n",
       "2012-06-01 09:57:00    27.0\n",
       "2012-06-01 09:58:00     NaN\n",
       "2012-06-01 09:59:00    29.0\n",
       "2012-06-01 10:00:00     NaN\n",
       "dtype: float64"
      ]
     },
     "execution_count": 38,
     "metadata": {},
     "output_type": "execute_result"
    }
   ],
   "source": [
    "irr_ts['2012-06-01 09:50': '2012-06-01 10:00']"
   ]
  },
  {
   "cell_type": "code",
   "execution_count": 39,
   "metadata": {
    "collapsed": true
   },
   "outputs": [],
   "source": [
    "selection = pd.date_range('2012-06-01 10:00', periods = 4, freq = 'B')"
   ]
  },
  {
   "cell_type": "code",
   "execution_count": 40,
   "metadata": {
    "collapsed": false
   },
   "outputs": [
    {
     "data": {
      "text/plain": [
       "2012-06-01 10:00:00      29.0\n",
       "2012-06-04 10:00:00     419.0\n",
       "2012-06-05 10:00:00     808.0\n",
       "2012-06-06 10:00:00    1199.0\n",
       "Freq: B, dtype: float64"
      ]
     },
     "execution_count": 40,
     "metadata": {},
     "output_type": "execute_result"
    }
   ],
   "source": [
    "irr_ts.asof(selection)"
   ]
  },
  {
   "cell_type": "markdown",
   "metadata": {},
   "source": [
    "## 拼接多个数据源"
   ]
  },
  {
   "cell_type": "code",
   "execution_count": 41,
   "metadata": {
    "collapsed": true
   },
   "outputs": [],
   "source": [
    "data1 = pd.DataFrame(np.ones((6, 3), dtype = float),\n",
    "                     columns = ['a', 'b', 'c'],\n",
    "                     index = pd.date_range('6/12/2012', periods = 6))"
   ]
  },
  {
   "cell_type": "code",
   "execution_count": 42,
   "metadata": {
    "collapsed": true
   },
   "outputs": [],
   "source": [
    "data2 = pd.DataFrame(np.ones((6, 3), dtype = float) * 2,\n",
    "                     columns = ['a', 'b', 'c'],\n",
    "                     index = pd.date_range('6/13/2012', periods = 6))"
   ]
  },
  {
   "cell_type": "code",
   "execution_count": 43,
   "metadata": {
    "collapsed": true
   },
   "outputs": [],
   "source": [
    "spliced = pd.concat([data1.ix[: '2012-06-14'], data2.ix['2012-06-15' :]])"
   ]
  },
  {
   "cell_type": "code",
   "execution_count": 44,
   "metadata": {
    "collapsed": false
   },
   "outputs": [
    {
     "data": {
      "text/html": [
       "<div>\n",
       "<table border=\"1\" class=\"dataframe\">\n",
       "  <thead>\n",
       "    <tr style=\"text-align: right;\">\n",
       "      <th></th>\n",
       "      <th>a</th>\n",
       "      <th>b</th>\n",
       "      <th>c</th>\n",
       "    </tr>\n",
       "  </thead>\n",
       "  <tbody>\n",
       "    <tr>\n",
       "      <th>2012-06-12</th>\n",
       "      <td>1.0</td>\n",
       "      <td>1.0</td>\n",
       "      <td>1.0</td>\n",
       "    </tr>\n",
       "    <tr>\n",
       "      <th>2012-06-13</th>\n",
       "      <td>1.0</td>\n",
       "      <td>1.0</td>\n",
       "      <td>1.0</td>\n",
       "    </tr>\n",
       "    <tr>\n",
       "      <th>2012-06-14</th>\n",
       "      <td>1.0</td>\n",
       "      <td>1.0</td>\n",
       "      <td>1.0</td>\n",
       "    </tr>\n",
       "    <tr>\n",
       "      <th>2012-06-15</th>\n",
       "      <td>2.0</td>\n",
       "      <td>2.0</td>\n",
       "      <td>2.0</td>\n",
       "    </tr>\n",
       "    <tr>\n",
       "      <th>2012-06-16</th>\n",
       "      <td>2.0</td>\n",
       "      <td>2.0</td>\n",
       "      <td>2.0</td>\n",
       "    </tr>\n",
       "    <tr>\n",
       "      <th>2012-06-17</th>\n",
       "      <td>2.0</td>\n",
       "      <td>2.0</td>\n",
       "      <td>2.0</td>\n",
       "    </tr>\n",
       "    <tr>\n",
       "      <th>2012-06-18</th>\n",
       "      <td>2.0</td>\n",
       "      <td>2.0</td>\n",
       "      <td>2.0</td>\n",
       "    </tr>\n",
       "  </tbody>\n",
       "</table>\n",
       "</div>"
      ],
      "text/plain": [
       "              a    b    c\n",
       "2012-06-12  1.0  1.0  1.0\n",
       "2012-06-13  1.0  1.0  1.0\n",
       "2012-06-14  1.0  1.0  1.0\n",
       "2012-06-15  2.0  2.0  2.0\n",
       "2012-06-16  2.0  2.0  2.0\n",
       "2012-06-17  2.0  2.0  2.0\n",
       "2012-06-18  2.0  2.0  2.0"
      ]
     },
     "execution_count": 44,
     "metadata": {},
     "output_type": "execute_result"
    }
   ],
   "source": [
    "spliced"
   ]
  },
  {
   "cell_type": "code",
   "execution_count": 45,
   "metadata": {
    "collapsed": true
   },
   "outputs": [],
   "source": [
    "data2 = pd.DataFrame(np.ones((6, 4), dtype = float) * 2,\n",
    "                     columns = ['a', 'b', 'c', 'd'],\n",
    "                     index = pd.date_range('6/13/2012', periods = 6))"
   ]
  },
  {
   "cell_type": "code",
   "execution_count": 46,
   "metadata": {
    "collapsed": true
   },
   "outputs": [],
   "source": [
    "spliced = pd.concat([data1.ix[: '2012-06-14'], data2.ix['2012-06-15' :]])"
   ]
  },
  {
   "cell_type": "code",
   "execution_count": 47,
   "metadata": {
    "collapsed": false
   },
   "outputs": [
    {
     "data": {
      "text/html": [
       "<div>\n",
       "<table border=\"1\" class=\"dataframe\">\n",
       "  <thead>\n",
       "    <tr style=\"text-align: right;\">\n",
       "      <th></th>\n",
       "      <th>a</th>\n",
       "      <th>b</th>\n",
       "      <th>c</th>\n",
       "      <th>d</th>\n",
       "    </tr>\n",
       "  </thead>\n",
       "  <tbody>\n",
       "    <tr>\n",
       "      <th>2012-06-12</th>\n",
       "      <td>1.0</td>\n",
       "      <td>1.0</td>\n",
       "      <td>1.0</td>\n",
       "      <td>NaN</td>\n",
       "    </tr>\n",
       "    <tr>\n",
       "      <th>2012-06-13</th>\n",
       "      <td>1.0</td>\n",
       "      <td>1.0</td>\n",
       "      <td>1.0</td>\n",
       "      <td>NaN</td>\n",
       "    </tr>\n",
       "    <tr>\n",
       "      <th>2012-06-14</th>\n",
       "      <td>1.0</td>\n",
       "      <td>1.0</td>\n",
       "      <td>1.0</td>\n",
       "      <td>NaN</td>\n",
       "    </tr>\n",
       "    <tr>\n",
       "      <th>2012-06-15</th>\n",
       "      <td>2.0</td>\n",
       "      <td>2.0</td>\n",
       "      <td>2.0</td>\n",
       "      <td>2.0</td>\n",
       "    </tr>\n",
       "    <tr>\n",
       "      <th>2012-06-16</th>\n",
       "      <td>2.0</td>\n",
       "      <td>2.0</td>\n",
       "      <td>2.0</td>\n",
       "      <td>2.0</td>\n",
       "    </tr>\n",
       "    <tr>\n",
       "      <th>2012-06-17</th>\n",
       "      <td>2.0</td>\n",
       "      <td>2.0</td>\n",
       "      <td>2.0</td>\n",
       "      <td>2.0</td>\n",
       "    </tr>\n",
       "    <tr>\n",
       "      <th>2012-06-18</th>\n",
       "      <td>2.0</td>\n",
       "      <td>2.0</td>\n",
       "      <td>2.0</td>\n",
       "      <td>2.0</td>\n",
       "    </tr>\n",
       "  </tbody>\n",
       "</table>\n",
       "</div>"
      ],
      "text/plain": [
       "              a    b    c    d\n",
       "2012-06-12  1.0  1.0  1.0  NaN\n",
       "2012-06-13  1.0  1.0  1.0  NaN\n",
       "2012-06-14  1.0  1.0  1.0  NaN\n",
       "2012-06-15  2.0  2.0  2.0  2.0\n",
       "2012-06-16  2.0  2.0  2.0  2.0\n",
       "2012-06-17  2.0  2.0  2.0  2.0\n",
       "2012-06-18  2.0  2.0  2.0  2.0"
      ]
     },
     "execution_count": 47,
     "metadata": {},
     "output_type": "execute_result"
    }
   ],
   "source": [
    "spliced"
   ]
  },
  {
   "cell_type": "code",
   "execution_count": 48,
   "metadata": {
    "collapsed": true
   },
   "outputs": [],
   "source": [
    "spliced_filled = spliced.combine_first(data2)"
   ]
  },
  {
   "cell_type": "code",
   "execution_count": 49,
   "metadata": {
    "collapsed": false
   },
   "outputs": [
    {
     "data": {
      "text/html": [
       "<div>\n",
       "<table border=\"1\" class=\"dataframe\">\n",
       "  <thead>\n",
       "    <tr style=\"text-align: right;\">\n",
       "      <th></th>\n",
       "      <th>a</th>\n",
       "      <th>b</th>\n",
       "      <th>c</th>\n",
       "      <th>d</th>\n",
       "    </tr>\n",
       "  </thead>\n",
       "  <tbody>\n",
       "    <tr>\n",
       "      <th>2012-06-12</th>\n",
       "      <td>1.0</td>\n",
       "      <td>1.0</td>\n",
       "      <td>1.0</td>\n",
       "      <td>NaN</td>\n",
       "    </tr>\n",
       "    <tr>\n",
       "      <th>2012-06-13</th>\n",
       "      <td>1.0</td>\n",
       "      <td>1.0</td>\n",
       "      <td>1.0</td>\n",
       "      <td>2.0</td>\n",
       "    </tr>\n",
       "    <tr>\n",
       "      <th>2012-06-14</th>\n",
       "      <td>1.0</td>\n",
       "      <td>1.0</td>\n",
       "      <td>1.0</td>\n",
       "      <td>2.0</td>\n",
       "    </tr>\n",
       "    <tr>\n",
       "      <th>2012-06-15</th>\n",
       "      <td>2.0</td>\n",
       "      <td>2.0</td>\n",
       "      <td>2.0</td>\n",
       "      <td>2.0</td>\n",
       "    </tr>\n",
       "    <tr>\n",
       "      <th>2012-06-16</th>\n",
       "      <td>2.0</td>\n",
       "      <td>2.0</td>\n",
       "      <td>2.0</td>\n",
       "      <td>2.0</td>\n",
       "    </tr>\n",
       "    <tr>\n",
       "      <th>2012-06-17</th>\n",
       "      <td>2.0</td>\n",
       "      <td>2.0</td>\n",
       "      <td>2.0</td>\n",
       "      <td>2.0</td>\n",
       "    </tr>\n",
       "    <tr>\n",
       "      <th>2012-06-18</th>\n",
       "      <td>2.0</td>\n",
       "      <td>2.0</td>\n",
       "      <td>2.0</td>\n",
       "      <td>2.0</td>\n",
       "    </tr>\n",
       "  </tbody>\n",
       "</table>\n",
       "</div>"
      ],
      "text/plain": [
       "              a    b    c    d\n",
       "2012-06-12  1.0  1.0  1.0  NaN\n",
       "2012-06-13  1.0  1.0  1.0  2.0\n",
       "2012-06-14  1.0  1.0  1.0  2.0\n",
       "2012-06-15  2.0  2.0  2.0  2.0\n",
       "2012-06-16  2.0  2.0  2.0  2.0\n",
       "2012-06-17  2.0  2.0  2.0  2.0\n",
       "2012-06-18  2.0  2.0  2.0  2.0"
      ]
     },
     "execution_count": 49,
     "metadata": {},
     "output_type": "execute_result"
    }
   ],
   "source": [
    "spliced_filled"
   ]
  },
  {
   "cell_type": "code",
   "execution_count": 50,
   "metadata": {
    "collapsed": true
   },
   "outputs": [],
   "source": [
    "spliced.update(data2, overwrite = False)"
   ]
  },
  {
   "cell_type": "code",
   "execution_count": 51,
   "metadata": {
    "collapsed": false
   },
   "outputs": [
    {
     "data": {
      "text/html": [
       "<div>\n",
       "<table border=\"1\" class=\"dataframe\">\n",
       "  <thead>\n",
       "    <tr style=\"text-align: right;\">\n",
       "      <th></th>\n",
       "      <th>a</th>\n",
       "      <th>b</th>\n",
       "      <th>c</th>\n",
       "      <th>d</th>\n",
       "    </tr>\n",
       "  </thead>\n",
       "  <tbody>\n",
       "    <tr>\n",
       "      <th>2012-06-12</th>\n",
       "      <td>1.0</td>\n",
       "      <td>1.0</td>\n",
       "      <td>1.0</td>\n",
       "      <td>NaN</td>\n",
       "    </tr>\n",
       "    <tr>\n",
       "      <th>2012-06-13</th>\n",
       "      <td>1.0</td>\n",
       "      <td>1.0</td>\n",
       "      <td>1.0</td>\n",
       "      <td>2.0</td>\n",
       "    </tr>\n",
       "    <tr>\n",
       "      <th>2012-06-14</th>\n",
       "      <td>1.0</td>\n",
       "      <td>1.0</td>\n",
       "      <td>1.0</td>\n",
       "      <td>2.0</td>\n",
       "    </tr>\n",
       "    <tr>\n",
       "      <th>2012-06-15</th>\n",
       "      <td>2.0</td>\n",
       "      <td>2.0</td>\n",
       "      <td>2.0</td>\n",
       "      <td>2.0</td>\n",
       "    </tr>\n",
       "    <tr>\n",
       "      <th>2012-06-16</th>\n",
       "      <td>2.0</td>\n",
       "      <td>2.0</td>\n",
       "      <td>2.0</td>\n",
       "      <td>2.0</td>\n",
       "    </tr>\n",
       "    <tr>\n",
       "      <th>2012-06-17</th>\n",
       "      <td>2.0</td>\n",
       "      <td>2.0</td>\n",
       "      <td>2.0</td>\n",
       "      <td>2.0</td>\n",
       "    </tr>\n",
       "    <tr>\n",
       "      <th>2012-06-18</th>\n",
       "      <td>2.0</td>\n",
       "      <td>2.0</td>\n",
       "      <td>2.0</td>\n",
       "      <td>2.0</td>\n",
       "    </tr>\n",
       "  </tbody>\n",
       "</table>\n",
       "</div>"
      ],
      "text/plain": [
       "              a    b    c    d\n",
       "2012-06-12  1.0  1.0  1.0  NaN\n",
       "2012-06-13  1.0  1.0  1.0  2.0\n",
       "2012-06-14  1.0  1.0  1.0  2.0\n",
       "2012-06-15  2.0  2.0  2.0  2.0\n",
       "2012-06-16  2.0  2.0  2.0  2.0\n",
       "2012-06-17  2.0  2.0  2.0  2.0\n",
       "2012-06-18  2.0  2.0  2.0  2.0"
      ]
     },
     "execution_count": 51,
     "metadata": {},
     "output_type": "execute_result"
    }
   ],
   "source": [
    "spliced"
   ]
  },
  {
   "cell_type": "code",
   "execution_count": 52,
   "metadata": {
    "collapsed": true
   },
   "outputs": [],
   "source": [
    "cp_spliced = spliced.copy()"
   ]
  },
  {
   "cell_type": "code",
   "execution_count": 53,
   "metadata": {
    "collapsed": true
   },
   "outputs": [],
   "source": [
    "cp_spliced[['a', 'c']] = data1[['a', 'c']]"
   ]
  },
  {
   "cell_type": "code",
   "execution_count": 54,
   "metadata": {
    "collapsed": false
   },
   "outputs": [
    {
     "data": {
      "text/html": [
       "<div>\n",
       "<table border=\"1\" class=\"dataframe\">\n",
       "  <thead>\n",
       "    <tr style=\"text-align: right;\">\n",
       "      <th></th>\n",
       "      <th>a</th>\n",
       "      <th>b</th>\n",
       "      <th>c</th>\n",
       "      <th>d</th>\n",
       "    </tr>\n",
       "  </thead>\n",
       "  <tbody>\n",
       "    <tr>\n",
       "      <th>2012-06-12</th>\n",
       "      <td>1.0</td>\n",
       "      <td>1.0</td>\n",
       "      <td>1.0</td>\n",
       "      <td>NaN</td>\n",
       "    </tr>\n",
       "    <tr>\n",
       "      <th>2012-06-13</th>\n",
       "      <td>1.0</td>\n",
       "      <td>1.0</td>\n",
       "      <td>1.0</td>\n",
       "      <td>2.0</td>\n",
       "    </tr>\n",
       "    <tr>\n",
       "      <th>2012-06-14</th>\n",
       "      <td>1.0</td>\n",
       "      <td>1.0</td>\n",
       "      <td>1.0</td>\n",
       "      <td>2.0</td>\n",
       "    </tr>\n",
       "    <tr>\n",
       "      <th>2012-06-15</th>\n",
       "      <td>1.0</td>\n",
       "      <td>2.0</td>\n",
       "      <td>1.0</td>\n",
       "      <td>2.0</td>\n",
       "    </tr>\n",
       "    <tr>\n",
       "      <th>2012-06-16</th>\n",
       "      <td>1.0</td>\n",
       "      <td>2.0</td>\n",
       "      <td>1.0</td>\n",
       "      <td>2.0</td>\n",
       "    </tr>\n",
       "    <tr>\n",
       "      <th>2012-06-17</th>\n",
       "      <td>1.0</td>\n",
       "      <td>2.0</td>\n",
       "      <td>1.0</td>\n",
       "      <td>2.0</td>\n",
       "    </tr>\n",
       "    <tr>\n",
       "      <th>2012-06-18</th>\n",
       "      <td>NaN</td>\n",
       "      <td>2.0</td>\n",
       "      <td>NaN</td>\n",
       "      <td>2.0</td>\n",
       "    </tr>\n",
       "  </tbody>\n",
       "</table>\n",
       "</div>"
      ],
      "text/plain": [
       "              a    b    c    d\n",
       "2012-06-12  1.0  1.0  1.0  NaN\n",
       "2012-06-13  1.0  1.0  1.0  2.0\n",
       "2012-06-14  1.0  1.0  1.0  2.0\n",
       "2012-06-15  1.0  2.0  1.0  2.0\n",
       "2012-06-16  1.0  2.0  1.0  2.0\n",
       "2012-06-17  1.0  2.0  1.0  2.0\n",
       "2012-06-18  NaN  2.0  NaN  2.0"
      ]
     },
     "execution_count": 54,
     "metadata": {},
     "output_type": "execute_result"
    }
   ],
   "source": [
    "cp_spliced"
   ]
  },
  {
   "cell_type": "markdown",
   "metadata": {},
   "source": [
    "## 收益指数和累计收益"
   ]
  },
  {
   "cell_type": "code",
   "execution_count": 55,
   "metadata": {
    "collapsed": true
   },
   "outputs": [],
   "source": [
    "from pandas_datareader import data"
   ]
  },
  {
   "cell_type": "code",
   "execution_count": 56,
   "metadata": {
    "collapsed": true
   },
   "outputs": [],
   "source": [
    "price = data.get_data_yahoo('AAPL', '2011-01-01')['Adj Close']"
   ]
  },
  {
   "cell_type": "code",
   "execution_count": 57,
   "metadata": {
    "collapsed": false
   },
   "outputs": [
    {
     "data": {
      "text/plain": [
       "Date\n",
       "2017-01-23    120.080002\n",
       "2017-01-24    119.970001\n",
       "2017-01-25    121.879997\n",
       "2017-01-26    121.940002\n",
       "2017-01-27    121.949997\n",
       "Name: Adj Close, dtype: float64"
      ]
     },
     "execution_count": 57,
     "metadata": {},
     "output_type": "execute_result"
    }
   ],
   "source": [
    "price[-5:]"
   ]
  },
  {
   "cell_type": "code",
   "execution_count": 58,
   "metadata": {
    "collapsed": false
   },
   "outputs": [
    {
     "data": {
      "text/plain": [
       "0.072399878739767276"
      ]
     },
     "execution_count": 58,
     "metadata": {},
     "output_type": "execute_result"
    }
   ],
   "source": [
    "price['2011-10-03'] / price['2011-03-01'] - 1"
   ]
  },
  {
   "cell_type": "code",
   "execution_count": 59,
   "metadata": {
    "collapsed": true
   },
   "outputs": [],
   "source": [
    "returns = price.pct_change()"
   ]
  },
  {
   "cell_type": "code",
   "execution_count": 60,
   "metadata": {
    "collapsed": true
   },
   "outputs": [],
   "source": [
    "ret_index = (1 + returns).cumprod()"
   ]
  },
  {
   "cell_type": "code",
   "execution_count": 61,
   "metadata": {
    "collapsed": false
   },
   "outputs": [],
   "source": [
    "ret_index[0] = 1"
   ]
  },
  {
   "cell_type": "code",
   "execution_count": 62,
   "metadata": {
    "collapsed": false
   },
   "outputs": [
    {
     "data": {
      "text/plain": [
       "Date\n",
       "2011-01-03    1.000000\n",
       "2011-01-04    1.005219\n",
       "2011-01-05    1.013442\n",
       "2011-01-06    1.012622\n",
       "2011-01-07    1.019874\n",
       "2011-01-10    1.039081\n",
       "2011-01-11    1.036623\n",
       "2011-01-12    1.045059\n",
       "2011-01-13    1.048882\n",
       "2011-01-14    1.057378\n",
       "2011-01-18    1.033620\n",
       "2011-01-19    1.028128\n",
       "2011-01-20    1.009437\n",
       "2011-01-21    0.991352\n",
       "2011-01-24    1.023910\n",
       "2011-01-25    1.035895\n",
       "2011-01-26    1.043329\n",
       "2011-01-27    1.041387\n",
       "2011-01-28    1.019814\n",
       "2011-01-31    1.029584\n",
       "2011-02-01    1.046910\n",
       "2011-02-02    1.044755\n",
       "2011-02-03    1.042085\n",
       "2011-02-04    1.051370\n",
       "2011-02-07    1.067694\n",
       "2011-02-08    1.077768\n",
       "2011-02-09    1.086749\n",
       "2011-02-10    1.075765\n",
       "2011-02-11    1.082775\n",
       "2011-02-14    1.089844\n",
       "                ...   \n",
       "2016-12-14    2.686079\n",
       "2016-12-15    2.700770\n",
       "2016-12-16    2.704268\n",
       "2016-12-19    2.719891\n",
       "2016-12-20    2.727120\n",
       "2016-12-21    2.729685\n",
       "2016-12-22    2.711730\n",
       "2016-12-23    2.717093\n",
       "2016-12-27    2.734349\n",
       "2016-12-28    2.722690\n",
       "2016-12-29    2.721990\n",
       "2016-12-30    2.700770\n",
       "2017-01-03    2.708465\n",
       "2017-01-04    2.705434\n",
       "2017-01-05    2.719192\n",
       "2017-01-06    2.749506\n",
       "2017-01-09    2.774690\n",
       "2017-01-10    2.777489\n",
       "2017-01-11    2.792413\n",
       "2017-01-12    2.780753\n",
       "2017-01-13    2.775856\n",
       "2017-01-17    2.798242\n",
       "2017-01-18    2.798009\n",
       "2017-01-19    2.793112\n",
       "2017-01-20    2.798242\n",
       "2017-01-23    2.800108\n",
       "2017-01-24    2.797543\n",
       "2017-01-25    2.842081\n",
       "2017-01-26    2.843480\n",
       "2017-01-27    2.843714\n",
       "Name: Adj Close, dtype: float64"
      ]
     },
     "execution_count": 62,
     "metadata": {},
     "output_type": "execute_result"
    }
   ],
   "source": [
    "ret_index"
   ]
  },
  {
   "cell_type": "code",
   "execution_count": 63,
   "metadata": {
    "collapsed": false
   },
   "outputs": [],
   "source": [
    "m_returns = ret_index.resample('BM').last().pct_change()"
   ]
  },
  {
   "cell_type": "code",
   "execution_count": 64,
   "metadata": {
    "collapsed": false
   },
   "outputs": [
    {
     "data": {
      "text/plain": [
       "Date\n",
       "2012-01-31    0.127111\n",
       "2012-02-29    0.188311\n",
       "2012-03-30    0.105284\n",
       "2012-04-30   -0.025970\n",
       "2012-05-31   -0.010702\n",
       "2012-06-29    0.010853\n",
       "2012-07-31    0.045822\n",
       "2012-08-31    0.093877\n",
       "2012-09-28    0.002796\n",
       "2012-10-31   -0.107600\n",
       "2012-11-30   -0.012375\n",
       "2012-12-31   -0.090743\n",
       "Freq: BM, Name: Adj Close, dtype: float64"
      ]
     },
     "execution_count": 64,
     "metadata": {},
     "output_type": "execute_result"
    }
   ],
   "source": [
    "m_returns['2012']"
   ]
  },
  {
   "cell_type": "code",
   "execution_count": 65,
   "metadata": {
    "collapsed": false
   },
   "outputs": [],
   "source": [
    "mrets = (1 + returns).resample('M', kind = 'period').prod() - 1"
   ]
  },
  {
   "cell_type": "code",
   "execution_count": 66,
   "metadata": {
    "collapsed": false
   },
   "outputs": [
    {
     "data": {
      "text/plain": [
       "Date\n",
       "2012-01    0.127111\n",
       "2012-02    0.188311\n",
       "2012-03    0.105284\n",
       "2012-04   -0.025970\n",
       "2012-05   -0.010702\n",
       "2012-06    0.010853\n",
       "2012-07    0.045822\n",
       "2012-08    0.093877\n",
       "2012-09    0.002796\n",
       "2012-10   -0.107600\n",
       "2012-11   -0.012375\n",
       "2012-12   -0.090743\n",
       "Freq: M, Name: Adj Close, dtype: float64"
      ]
     },
     "execution_count": 66,
     "metadata": {},
     "output_type": "execute_result"
    }
   ],
   "source": [
    "mrets['2012']"
   ]
  },
  {
   "cell_type": "markdown",
   "metadata": {},
   "source": [
    "# 分组变换和分析"
   ]
  },
  {
   "cell_type": "code",
   "execution_count": 67,
   "metadata": {
    "collapsed": true
   },
   "outputs": [],
   "source": [
    "import random; random.seed(0)\n",
    "import string"
   ]
  },
  {
   "cell_type": "code",
   "execution_count": 68,
   "metadata": {
    "collapsed": true
   },
   "outputs": [],
   "source": [
    "N = 1000\n",
    "def rands(n):\n",
    "    choices = string.ascii_uppercase\n",
    "    return ''.join([random.choice(choices) for _ in xrange(n)])\n",
    "\n",
    "tickers = np.array([rands(5) for _ in xrange(N)])"
   ]
  },
  {
   "cell_type": "code",
   "execution_count": 69,
   "metadata": {
    "collapsed": true
   },
   "outputs": [],
   "source": [
    "M = 500\n",
    "df = pd.DataFrame({'Momentum'      : np.random.randn(M) / 200 + 0.03,\n",
    "                   'Value'         : np.random.randn(M) / 200 + 0.08,\n",
    "                   'ShortInterest' : np.random.randn(M) / 200 - 0.02},\n",
    "                  index = tickers[: M])"
   ]
  },
  {
   "cell_type": "code",
   "execution_count": 70,
   "metadata": {
    "collapsed": true
   },
   "outputs": [],
   "source": [
    "ind_names = np.array(['FINANCIAL', 'TECH'])\n",
    "sampler = np.random.randint(0, len(ind_names), N)\n",
    "industries = pd.Series(ind_names[sampler], index = tickers, name = 'industry')"
   ]
  },
  {
   "cell_type": "code",
   "execution_count": 71,
   "metadata": {
    "collapsed": true
   },
   "outputs": [],
   "source": [
    "by_industry = df.groupby(industries)"
   ]
  },
  {
   "cell_type": "code",
   "execution_count": 72,
   "metadata": {
    "collapsed": false
   },
   "outputs": [
    {
     "data": {
      "text/html": [
       "<div>\n",
       "<table border=\"1\" class=\"dataframe\">\n",
       "  <thead>\n",
       "    <tr style=\"text-align: right;\">\n",
       "      <th></th>\n",
       "      <th>Momentum</th>\n",
       "      <th>ShortInterest</th>\n",
       "      <th>Value</th>\n",
       "    </tr>\n",
       "    <tr>\n",
       "      <th>industry</th>\n",
       "      <th></th>\n",
       "      <th></th>\n",
       "      <th></th>\n",
       "    </tr>\n",
       "  </thead>\n",
       "  <tbody>\n",
       "    <tr>\n",
       "      <th>FINANCIAL</th>\n",
       "      <td>0.030490</td>\n",
       "      <td>-0.020117</td>\n",
       "      <td>0.079544</td>\n",
       "    </tr>\n",
       "    <tr>\n",
       "      <th>TECH</th>\n",
       "      <td>0.029869</td>\n",
       "      <td>-0.019772</td>\n",
       "      <td>0.079836</td>\n",
       "    </tr>\n",
       "  </tbody>\n",
       "</table>\n",
       "</div>"
      ],
      "text/plain": [
       "           Momentum  ShortInterest     Value\n",
       "industry                                    \n",
       "FINANCIAL  0.030490      -0.020117  0.079544\n",
       "TECH       0.029869      -0.019772  0.079836"
      ]
     },
     "execution_count": 72,
     "metadata": {},
     "output_type": "execute_result"
    }
   ],
   "source": [
    "by_industry.mean()"
   ]
  },
  {
   "cell_type": "code",
   "execution_count": 73,
   "metadata": {
    "collapsed": false
   },
   "outputs": [
    {
     "data": {
      "text/html": [
       "<div>\n",
       "<table border=\"1\" class=\"dataframe\">\n",
       "  <thead>\n",
       "    <tr style=\"text-align: right;\">\n",
       "      <th></th>\n",
       "      <th></th>\n",
       "      <th>Momentum</th>\n",
       "      <th>ShortInterest</th>\n",
       "      <th>Value</th>\n",
       "    </tr>\n",
       "    <tr>\n",
       "      <th>industry</th>\n",
       "      <th></th>\n",
       "      <th></th>\n",
       "      <th></th>\n",
       "      <th></th>\n",
       "    </tr>\n",
       "  </thead>\n",
       "  <tbody>\n",
       "    <tr>\n",
       "      <th rowspan=\"8\" valign=\"top\">FINANCIAL</th>\n",
       "      <th>count</th>\n",
       "      <td>259.000000</td>\n",
       "      <td>259.000000</td>\n",
       "      <td>259.000000</td>\n",
       "    </tr>\n",
       "    <tr>\n",
       "      <th>mean</th>\n",
       "      <td>0.030490</td>\n",
       "      <td>-0.020117</td>\n",
       "      <td>0.079544</td>\n",
       "    </tr>\n",
       "    <tr>\n",
       "      <th>std</th>\n",
       "      <td>0.005356</td>\n",
       "      <td>0.005037</td>\n",
       "      <td>0.005123</td>\n",
       "    </tr>\n",
       "    <tr>\n",
       "      <th>min</th>\n",
       "      <td>0.018176</td>\n",
       "      <td>-0.032750</td>\n",
       "      <td>0.063245</td>\n",
       "    </tr>\n",
       "    <tr>\n",
       "      <th>25%</th>\n",
       "      <td>0.026274</td>\n",
       "      <td>-0.023974</td>\n",
       "      <td>0.076520</td>\n",
       "    </tr>\n",
       "    <tr>\n",
       "      <th>50%</th>\n",
       "      <td>0.029948</td>\n",
       "      <td>-0.019917</td>\n",
       "      <td>0.079487</td>\n",
       "    </tr>\n",
       "    <tr>\n",
       "      <th>75%</th>\n",
       "      <td>0.034627</td>\n",
       "      <td>-0.016830</td>\n",
       "      <td>0.082842</td>\n",
       "    </tr>\n",
       "    <tr>\n",
       "      <th>max</th>\n",
       "      <td>0.045451</td>\n",
       "      <td>-0.007134</td>\n",
       "      <td>0.094244</td>\n",
       "    </tr>\n",
       "    <tr>\n",
       "      <th rowspan=\"8\" valign=\"top\">TECH</th>\n",
       "      <th>count</th>\n",
       "      <td>241.000000</td>\n",
       "      <td>241.000000</td>\n",
       "      <td>241.000000</td>\n",
       "    </tr>\n",
       "    <tr>\n",
       "      <th>mean</th>\n",
       "      <td>0.029869</td>\n",
       "      <td>-0.019772</td>\n",
       "      <td>0.079836</td>\n",
       "    </tr>\n",
       "    <tr>\n",
       "      <th>std</th>\n",
       "      <td>0.004683</td>\n",
       "      <td>0.005019</td>\n",
       "      <td>0.004881</td>\n",
       "    </tr>\n",
       "    <tr>\n",
       "      <th>min</th>\n",
       "      <td>0.016066</td>\n",
       "      <td>-0.034868</td>\n",
       "      <td>0.065245</td>\n",
       "    </tr>\n",
       "    <tr>\n",
       "      <th>25%</th>\n",
       "      <td>0.026810</td>\n",
       "      <td>-0.023377</td>\n",
       "      <td>0.076633</td>\n",
       "    </tr>\n",
       "    <tr>\n",
       "      <th>50%</th>\n",
       "      <td>0.030120</td>\n",
       "      <td>-0.020281</td>\n",
       "      <td>0.079871</td>\n",
       "    </tr>\n",
       "    <tr>\n",
       "      <th>75%</th>\n",
       "      <td>0.032943</td>\n",
       "      <td>-0.016278</td>\n",
       "      <td>0.083338</td>\n",
       "    </tr>\n",
       "    <tr>\n",
       "      <th>max</th>\n",
       "      <td>0.042518</td>\n",
       "      <td>-0.006101</td>\n",
       "      <td>0.094839</td>\n",
       "    </tr>\n",
       "  </tbody>\n",
       "</table>\n",
       "</div>"
      ],
      "text/plain": [
       "                   Momentum  ShortInterest       Value\n",
       "industry                                              \n",
       "FINANCIAL count  259.000000     259.000000  259.000000\n",
       "          mean     0.030490      -0.020117    0.079544\n",
       "          std      0.005356       0.005037    0.005123\n",
       "          min      0.018176      -0.032750    0.063245\n",
       "          25%      0.026274      -0.023974    0.076520\n",
       "          50%      0.029948      -0.019917    0.079487\n",
       "          75%      0.034627      -0.016830    0.082842\n",
       "          max      0.045451      -0.007134    0.094244\n",
       "TECH      count  241.000000     241.000000  241.000000\n",
       "          mean     0.029869      -0.019772    0.079836\n",
       "          std      0.004683       0.005019    0.004881\n",
       "          min      0.016066      -0.034868    0.065245\n",
       "          25%      0.026810      -0.023377    0.076633\n",
       "          50%      0.030120      -0.020281    0.079871\n",
       "          75%      0.032943      -0.016278    0.083338\n",
       "          max      0.042518      -0.006101    0.094839"
      ]
     },
     "execution_count": 73,
     "metadata": {},
     "output_type": "execute_result"
    }
   ],
   "source": [
    "by_industry.describe()"
   ]
  },
  {
   "cell_type": "code",
   "execution_count": 74,
   "metadata": {
    "collapsed": true
   },
   "outputs": [],
   "source": [
    "def zscore(group):\n",
    "    return (group - group.mean()) / group.std()\n",
    "\n",
    "df_stand = by_industry.apply(zscore)"
   ]
  },
  {
   "cell_type": "code",
   "execution_count": 75,
   "metadata": {
    "collapsed": false
   },
   "outputs": [
    {
     "data": {
      "text/html": [
       "<div>\n",
       "<table border=\"1\" class=\"dataframe\">\n",
       "  <thead>\n",
       "    <tr>\n",
       "      <th></th>\n",
       "      <th colspan=\"2\" halign=\"left\">Momentum</th>\n",
       "      <th colspan=\"2\" halign=\"left\">ShortInterest</th>\n",
       "      <th colspan=\"2\" halign=\"left\">Value</th>\n",
       "    </tr>\n",
       "    <tr>\n",
       "      <th></th>\n",
       "      <th>mean</th>\n",
       "      <th>std</th>\n",
       "      <th>mean</th>\n",
       "      <th>std</th>\n",
       "      <th>mean</th>\n",
       "      <th>std</th>\n",
       "    </tr>\n",
       "    <tr>\n",
       "      <th>industry</th>\n",
       "      <th></th>\n",
       "      <th></th>\n",
       "      <th></th>\n",
       "      <th></th>\n",
       "      <th></th>\n",
       "      <th></th>\n",
       "    </tr>\n",
       "  </thead>\n",
       "  <tbody>\n",
       "    <tr>\n",
       "      <th>FINANCIAL</th>\n",
       "      <td>6.391284e-16</td>\n",
       "      <td>1.0</td>\n",
       "      <td>6.558460e-16</td>\n",
       "      <td>1.0</td>\n",
       "      <td>-4.962461e-15</td>\n",
       "      <td>1.0</td>\n",
       "    </tr>\n",
       "    <tr>\n",
       "      <th>TECH</th>\n",
       "      <td>-2.039862e-15</td>\n",
       "      <td>1.0</td>\n",
       "      <td>-7.997291e-16</td>\n",
       "      <td>1.0</td>\n",
       "      <td>-6.359136e-15</td>\n",
       "      <td>1.0</td>\n",
       "    </tr>\n",
       "  </tbody>\n",
       "</table>\n",
       "</div>"
      ],
      "text/plain": [
       "               Momentum      ShortInterest              Value     \n",
       "                   mean  std          mean  std          mean  std\n",
       "industry                                                          \n",
       "FINANCIAL  6.391284e-16  1.0  6.558460e-16  1.0 -4.962461e-15  1.0\n",
       "TECH      -2.039862e-15  1.0 -7.997291e-16  1.0 -6.359136e-15  1.0"
      ]
     },
     "execution_count": 75,
     "metadata": {},
     "output_type": "execute_result"
    }
   ],
   "source": [
    "df_stand.groupby(industries).agg(['mean', 'std'])"
   ]
  },
  {
   "cell_type": "code",
   "execution_count": 76,
   "metadata": {
    "collapsed": true
   },
   "outputs": [],
   "source": [
    "ind_rank = by_industry.rank(ascending = False)"
   ]
  },
  {
   "cell_type": "code",
   "execution_count": 77,
   "metadata": {
    "collapsed": false
   },
   "outputs": [
    {
     "data": {
      "text/html": [
       "<div>\n",
       "<table border=\"1\" class=\"dataframe\">\n",
       "  <thead>\n",
       "    <tr>\n",
       "      <th></th>\n",
       "      <th colspan=\"2\" halign=\"left\">Momentum</th>\n",
       "      <th colspan=\"2\" halign=\"left\">ShortInterest</th>\n",
       "      <th colspan=\"2\" halign=\"left\">Value</th>\n",
       "    </tr>\n",
       "    <tr>\n",
       "      <th></th>\n",
       "      <th>min</th>\n",
       "      <th>max</th>\n",
       "      <th>min</th>\n",
       "      <th>max</th>\n",
       "      <th>min</th>\n",
       "      <th>max</th>\n",
       "    </tr>\n",
       "    <tr>\n",
       "      <th>industry</th>\n",
       "      <th></th>\n",
       "      <th></th>\n",
       "      <th></th>\n",
       "      <th></th>\n",
       "      <th></th>\n",
       "      <th></th>\n",
       "    </tr>\n",
       "  </thead>\n",
       "  <tbody>\n",
       "    <tr>\n",
       "      <th>FINANCIAL</th>\n",
       "      <td>1.0</td>\n",
       "      <td>259.0</td>\n",
       "      <td>1.0</td>\n",
       "      <td>259.0</td>\n",
       "      <td>1.0</td>\n",
       "      <td>259.0</td>\n",
       "    </tr>\n",
       "    <tr>\n",
       "      <th>TECH</th>\n",
       "      <td>1.0</td>\n",
       "      <td>241.0</td>\n",
       "      <td>1.0</td>\n",
       "      <td>241.0</td>\n",
       "      <td>1.0</td>\n",
       "      <td>241.0</td>\n",
       "    </tr>\n",
       "  </tbody>\n",
       "</table>\n",
       "</div>"
      ],
      "text/plain": [
       "          Momentum        ShortInterest        Value       \n",
       "               min    max           min    max   min    max\n",
       "industry                                                   \n",
       "FINANCIAL      1.0  259.0           1.0  259.0   1.0  259.0\n",
       "TECH           1.0  241.0           1.0  241.0   1.0  241.0"
      ]
     },
     "execution_count": 77,
     "metadata": {},
     "output_type": "execute_result"
    }
   ],
   "source": [
    "ind_rank.groupby(industries).agg(['min', 'max'])"
   ]
  },
  {
   "cell_type": "code",
   "execution_count": 78,
   "metadata": {
    "collapsed": false
   },
   "outputs": [
    {
     "data": {
      "text/html": [
       "<div>\n",
       "<table border=\"1\" class=\"dataframe\">\n",
       "  <thead>\n",
       "    <tr style=\"text-align: right;\">\n",
       "      <th></th>\n",
       "      <th>Momentum</th>\n",
       "      <th>ShortInterest</th>\n",
       "      <th>Value</th>\n",
       "    </tr>\n",
       "  </thead>\n",
       "  <tbody>\n",
       "    <tr>\n",
       "      <th>VTKGN</th>\n",
       "      <td>0.889336</td>\n",
       "      <td>0.043032</td>\n",
       "      <td>-1.190563</td>\n",
       "    </tr>\n",
       "    <tr>\n",
       "      <th>KUHMP</th>\n",
       "      <td>-0.989745</td>\n",
       "      <td>-1.405725</td>\n",
       "      <td>-1.004090</td>\n",
       "    </tr>\n",
       "    <tr>\n",
       "      <th>XNHTQ</th>\n",
       "      <td>-1.247940</td>\n",
       "      <td>-0.846304</td>\n",
       "      <td>-0.946713</td>\n",
       "    </tr>\n",
       "    <tr>\n",
       "      <th>GXZVX</th>\n",
       "      <td>0.129097</td>\n",
       "      <td>0.573765</td>\n",
       "      <td>-0.961057</td>\n",
       "    </tr>\n",
       "    <tr>\n",
       "      <th>ISXRM</th>\n",
       "      <td>1.477446</td>\n",
       "      <td>0.444668</td>\n",
       "      <td>-0.487701</td>\n",
       "    </tr>\n",
       "    <tr>\n",
       "      <th>CLPXZ</th>\n",
       "      <td>-1.415011</td>\n",
       "      <td>1.094631</td>\n",
       "      <td>-0.827648</td>\n",
       "    </tr>\n",
       "    <tr>\n",
       "      <th>MWGUO</th>\n",
       "      <td>0.258194</td>\n",
       "      <td>1.692608</td>\n",
       "      <td>0.215162</td>\n",
       "    </tr>\n",
       "    <tr>\n",
       "      <th>ASKVR</th>\n",
       "      <td>-1.481757</td>\n",
       "      <td>0.080095</td>\n",
       "      <td>1.294869</td>\n",
       "    </tr>\n",
       "    <tr>\n",
       "      <th>AMWGI</th>\n",
       "      <td>-1.004090</td>\n",
       "      <td>-0.903681</td>\n",
       "      <td>0.645486</td>\n",
       "    </tr>\n",
       "    <tr>\n",
       "      <th>WEOGZ</th>\n",
       "      <td>0.215162</td>\n",
       "      <td>1.204907</td>\n",
       "      <td>-0.659830</td>\n",
       "    </tr>\n",
       "    <tr>\n",
       "      <th>ULCIN</th>\n",
       "      <td>-1.018434</td>\n",
       "      <td>-1.133187</td>\n",
       "      <td>0.975401</td>\n",
       "    </tr>\n",
       "    <tr>\n",
       "      <th>YCOSO</th>\n",
       "      <td>1.047122</td>\n",
       "      <td>1.161875</td>\n",
       "      <td>0.415980</td>\n",
       "    </tr>\n",
       "    <tr>\n",
       "      <th>VOZPP</th>\n",
       "      <td>1.428361</td>\n",
       "      <td>-0.360427</td>\n",
       "      <td>-1.014536</td>\n",
       "    </tr>\n",
       "    <tr>\n",
       "      <th>LPKOH</th>\n",
       "      <td>-0.974489</td>\n",
       "      <td>1.415011</td>\n",
       "      <td>-0.734204</td>\n",
       "    </tr>\n",
       "    <tr>\n",
       "      <th>EEPRM</th>\n",
       "      <td>-0.114753</td>\n",
       "      <td>-0.387292</td>\n",
       "      <td>1.290972</td>\n",
       "    </tr>\n",
       "    <tr>\n",
       "      <th>CTWYV</th>\n",
       "      <td>-1.548503</td>\n",
       "      <td>0.440522</td>\n",
       "      <td>-0.787601</td>\n",
       "    </tr>\n",
       "    <tr>\n",
       "      <th>XYOKS</th>\n",
       "      <td>0.459012</td>\n",
       "      <td>-0.329915</td>\n",
       "      <td>0.530733</td>\n",
       "    </tr>\n",
       "    <tr>\n",
       "      <th>HVWXP</th>\n",
       "      <td>-0.814299</td>\n",
       "      <td>-1.495106</td>\n",
       "      <td>-1.201425</td>\n",
       "    </tr>\n",
       "    <tr>\n",
       "      <th>YPLRZ</th>\n",
       "      <td>-0.975401</td>\n",
       "      <td>-0.143441</td>\n",
       "      <td>0.502045</td>\n",
       "    </tr>\n",
       "    <tr>\n",
       "      <th>XUCPM</th>\n",
       "      <td>0.186474</td>\n",
       "      <td>-0.616798</td>\n",
       "      <td>-0.530733</td>\n",
       "    </tr>\n",
       "    <tr>\n",
       "      <th>QVGTD</th>\n",
       "      <td>-0.186474</td>\n",
       "      <td>-1.075810</td>\n",
       "      <td>-1.491790</td>\n",
       "    </tr>\n",
       "    <tr>\n",
       "      <th>FUIVC</th>\n",
       "      <td>-0.387292</td>\n",
       "      <td>-1.434414</td>\n",
       "      <td>-0.444668</td>\n",
       "    </tr>\n",
       "    <tr>\n",
       "      <th>DSBOX</th>\n",
       "      <td>-0.480570</td>\n",
       "      <td>1.254821</td>\n",
       "      <td>-0.360427</td>\n",
       "    </tr>\n",
       "    <tr>\n",
       "      <th>NRAQP</th>\n",
       "      <td>0.013349</td>\n",
       "      <td>-1.428361</td>\n",
       "      <td>1.241472</td>\n",
       "    </tr>\n",
       "    <tr>\n",
       "      <th>OKJZA</th>\n",
       "      <td>-0.086065</td>\n",
       "      <td>0.086065</td>\n",
       "      <td>1.262284</td>\n",
       "    </tr>\n",
       "    <tr>\n",
       "      <th>AYEDF</th>\n",
       "      <td>-0.253634</td>\n",
       "      <td>-0.213587</td>\n",
       "      <td>0.053397</td>\n",
       "    </tr>\n",
       "    <tr>\n",
       "      <th>UYALC</th>\n",
       "      <td>1.692608</td>\n",
       "      <td>0.372948</td>\n",
       "      <td>1.678264</td>\n",
       "    </tr>\n",
       "    <tr>\n",
       "      <th>GFQJE</th>\n",
       "      <td>-0.961140</td>\n",
       "      <td>-1.361615</td>\n",
       "      <td>0.080095</td>\n",
       "    </tr>\n",
       "    <tr>\n",
       "      <th>NBCZF</th>\n",
       "      <td>0.688519</td>\n",
       "      <td>1.434414</td>\n",
       "      <td>-1.405725</td>\n",
       "    </tr>\n",
       "    <tr>\n",
       "      <th>JTVXE</th>\n",
       "      <td>1.491790</td>\n",
       "      <td>-0.229506</td>\n",
       "      <td>-0.272539</td>\n",
       "    </tr>\n",
       "    <tr>\n",
       "      <th>...</th>\n",
       "      <td>...</td>\n",
       "      <td>...</td>\n",
       "      <td>...</td>\n",
       "    </tr>\n",
       "    <tr>\n",
       "      <th>XLKXN</th>\n",
       "      <td>-1.681995</td>\n",
       "      <td>-1.214774</td>\n",
       "      <td>-1.481757</td>\n",
       "    </tr>\n",
       "    <tr>\n",
       "      <th>TEBLI</th>\n",
       "      <td>-0.344259</td>\n",
       "      <td>1.463102</td>\n",
       "      <td>-1.563511</td>\n",
       "    </tr>\n",
       "    <tr>\n",
       "      <th>NIWTJ</th>\n",
       "      <td>1.681995</td>\n",
       "      <td>-1.228123</td>\n",
       "      <td>1.361615</td>\n",
       "    </tr>\n",
       "    <tr>\n",
       "      <th>DSODA</th>\n",
       "      <td>0.645486</td>\n",
       "      <td>-0.014344</td>\n",
       "      <td>0.444668</td>\n",
       "    </tr>\n",
       "    <tr>\n",
       "      <th>QNOKM</th>\n",
       "      <td>1.535154</td>\n",
       "      <td>-0.160190</td>\n",
       "      <td>0.266983</td>\n",
       "    </tr>\n",
       "    <tr>\n",
       "      <th>KCNDR</th>\n",
       "      <td>-1.655296</td>\n",
       "      <td>-0.280332</td>\n",
       "      <td>0.827648</td>\n",
       "    </tr>\n",
       "    <tr>\n",
       "      <th>TEFGP</th>\n",
       "      <td>-0.667458</td>\n",
       "      <td>1.107981</td>\n",
       "      <td>-0.560665</td>\n",
       "    </tr>\n",
       "    <tr>\n",
       "      <th>KXONF</th>\n",
       "      <td>1.247940</td>\n",
       "      <td>-0.803272</td>\n",
       "      <td>1.391381</td>\n",
       "    </tr>\n",
       "    <tr>\n",
       "      <th>CYCDF</th>\n",
       "      <td>-1.262284</td>\n",
       "      <td>1.577855</td>\n",
       "      <td>1.448758</td>\n",
       "    </tr>\n",
       "    <tr>\n",
       "      <th>OQLKQ</th>\n",
       "      <td>-0.645486</td>\n",
       "      <td>-1.620887</td>\n",
       "      <td>-0.473357</td>\n",
       "    </tr>\n",
       "    <tr>\n",
       "      <th>GUQPA</th>\n",
       "      <td>-0.372948</td>\n",
       "      <td>1.219252</td>\n",
       "      <td>0.301227</td>\n",
       "    </tr>\n",
       "    <tr>\n",
       "      <th>ITFQZ</th>\n",
       "      <td>-1.148028</td>\n",
       "      <td>-1.628598</td>\n",
       "      <td>0.226936</td>\n",
       "    </tr>\n",
       "    <tr>\n",
       "      <th>LNFAG</th>\n",
       "      <td>1.188076</td>\n",
       "      <td>1.281520</td>\n",
       "      <td>-0.854346</td>\n",
       "    </tr>\n",
       "    <tr>\n",
       "      <th>MPVHI</th>\n",
       "      <td>1.441710</td>\n",
       "      <td>-0.493919</td>\n",
       "      <td>-0.774252</td>\n",
       "    </tr>\n",
       "    <tr>\n",
       "      <th>SRSWC</th>\n",
       "      <td>0.100409</td>\n",
       "      <td>1.563511</td>\n",
       "      <td>-1.620887</td>\n",
       "    </tr>\n",
       "    <tr>\n",
       "      <th>DMPRF</th>\n",
       "      <td>0.453872</td>\n",
       "      <td>0.186888</td>\n",
       "      <td>-1.641947</td>\n",
       "    </tr>\n",
       "    <tr>\n",
       "      <th>DXGAH</th>\n",
       "      <td>-0.867696</td>\n",
       "      <td>-0.320380</td>\n",
       "      <td>-0.080095</td>\n",
       "    </tr>\n",
       "    <tr>\n",
       "      <th>NQTDN</th>\n",
       "      <td>0.026698</td>\n",
       "      <td>-0.627411</td>\n",
       "      <td>1.161377</td>\n",
       "    </tr>\n",
       "    <tr>\n",
       "      <th>ISJVE</th>\n",
       "      <td>-0.934441</td>\n",
       "      <td>1.495106</td>\n",
       "      <td>1.134679</td>\n",
       "    </tr>\n",
       "    <tr>\n",
       "      <th>ZNLSJ</th>\n",
       "      <td>-0.947791</td>\n",
       "      <td>1.521805</td>\n",
       "      <td>-1.188076</td>\n",
       "    </tr>\n",
       "    <tr>\n",
       "      <th>ALHRN</th>\n",
       "      <td>-0.266983</td>\n",
       "      <td>0.520617</td>\n",
       "      <td>0.453872</td>\n",
       "    </tr>\n",
       "    <tr>\n",
       "      <th>VMEDO</th>\n",
       "      <td>-1.561852</td>\n",
       "      <td>-1.388313</td>\n",
       "      <td>1.681995</td>\n",
       "    </tr>\n",
       "    <tr>\n",
       "      <th>GFYDX</th>\n",
       "      <td>-0.680807</td>\n",
       "      <td>1.228123</td>\n",
       "      <td>0.480570</td>\n",
       "    </tr>\n",
       "    <tr>\n",
       "      <th>NYVHM</th>\n",
       "      <td>1.233596</td>\n",
       "      <td>-0.100409</td>\n",
       "      <td>1.161875</td>\n",
       "    </tr>\n",
       "    <tr>\n",
       "      <th>CJYCG</th>\n",
       "      <td>0.401636</td>\n",
       "      <td>-0.989745</td>\n",
       "      <td>0.989745</td>\n",
       "    </tr>\n",
       "    <tr>\n",
       "      <th>BWRPM</th>\n",
       "      <td>-1.388313</td>\n",
       "      <td>1.067933</td>\n",
       "      <td>0.934441</td>\n",
       "    </tr>\n",
       "    <tr>\n",
       "      <th>GPSUE</th>\n",
       "      <td>-1.695344</td>\n",
       "      <td>-1.188076</td>\n",
       "      <td>1.415011</td>\n",
       "    </tr>\n",
       "    <tr>\n",
       "      <th>QRPSN</th>\n",
       "      <td>-0.731551</td>\n",
       "      <td>1.663920</td>\n",
       "      <td>-1.506134</td>\n",
       "    </tr>\n",
       "    <tr>\n",
       "      <th>YQQAD</th>\n",
       "      <td>-1.641947</td>\n",
       "      <td>-1.561852</td>\n",
       "      <td>0.160190</td>\n",
       "    </tr>\n",
       "    <tr>\n",
       "      <th>PTDQE</th>\n",
       "      <td>0.934441</td>\n",
       "      <td>-1.508456</td>\n",
       "      <td>-0.200237</td>\n",
       "    </tr>\n",
       "  </tbody>\n",
       "</table>\n",
       "<p>500 rows × 3 columns</p>\n",
       "</div>"
      ],
      "text/plain": [
       "       Momentum  ShortInterest     Value\n",
       "VTKGN  0.889336       0.043032 -1.190563\n",
       "KUHMP -0.989745      -1.405725 -1.004090\n",
       "XNHTQ -1.247940      -0.846304 -0.946713\n",
       "GXZVX  0.129097       0.573765 -0.961057\n",
       "ISXRM  1.477446       0.444668 -0.487701\n",
       "CLPXZ -1.415011       1.094631 -0.827648\n",
       "MWGUO  0.258194       1.692608  0.215162\n",
       "ASKVR -1.481757       0.080095  1.294869\n",
       "AMWGI -1.004090      -0.903681  0.645486\n",
       "WEOGZ  0.215162       1.204907 -0.659830\n",
       "ULCIN -1.018434      -1.133187  0.975401\n",
       "YCOSO  1.047122       1.161875  0.415980\n",
       "VOZPP  1.428361      -0.360427 -1.014536\n",
       "LPKOH -0.974489       1.415011 -0.734204\n",
       "EEPRM -0.114753      -0.387292  1.290972\n",
       "CTWYV -1.548503       0.440522 -0.787601\n",
       "XYOKS  0.459012      -0.329915  0.530733\n",
       "HVWXP -0.814299      -1.495106 -1.201425\n",
       "YPLRZ -0.975401      -0.143441  0.502045\n",
       "XUCPM  0.186474      -0.616798 -0.530733\n",
       "QVGTD -0.186474      -1.075810 -1.491790\n",
       "FUIVC -0.387292      -1.434414 -0.444668\n",
       "DSBOX -0.480570       1.254821 -0.360427\n",
       "NRAQP  0.013349      -1.428361  1.241472\n",
       "OKJZA -0.086065       0.086065  1.262284\n",
       "AYEDF -0.253634      -0.213587  0.053397\n",
       "UYALC  1.692608       0.372948  1.678264\n",
       "GFQJE -0.961140      -1.361615  0.080095\n",
       "NBCZF  0.688519       1.434414 -1.405725\n",
       "JTVXE  1.491790      -0.229506 -0.272539\n",
       "...         ...            ...       ...\n",
       "XLKXN -1.681995      -1.214774 -1.481757\n",
       "TEBLI -0.344259       1.463102 -1.563511\n",
       "NIWTJ  1.681995      -1.228123  1.361615\n",
       "DSODA  0.645486      -0.014344  0.444668\n",
       "QNOKM  1.535154      -0.160190  0.266983\n",
       "KCNDR -1.655296      -0.280332  0.827648\n",
       "TEFGP -0.667458       1.107981 -0.560665\n",
       "KXONF  1.247940      -0.803272  1.391381\n",
       "CYCDF -1.262284       1.577855  1.448758\n",
       "OQLKQ -0.645486      -1.620887 -0.473357\n",
       "GUQPA -0.372948       1.219252  0.301227\n",
       "ITFQZ -1.148028      -1.628598  0.226936\n",
       "LNFAG  1.188076       1.281520 -0.854346\n",
       "MPVHI  1.441710      -0.493919 -0.774252\n",
       "SRSWC  0.100409       1.563511 -1.620887\n",
       "DMPRF  0.453872       0.186888 -1.641947\n",
       "DXGAH -0.867696      -0.320380 -0.080095\n",
       "NQTDN  0.026698      -0.627411  1.161377\n",
       "ISJVE -0.934441       1.495106  1.134679\n",
       "ZNLSJ -0.947791       1.521805 -1.188076\n",
       "ALHRN -0.266983       0.520617  0.453872\n",
       "VMEDO -1.561852      -1.388313  1.681995\n",
       "GFYDX -0.680807       1.228123  0.480570\n",
       "NYVHM  1.233596      -0.100409  1.161875\n",
       "CJYCG  0.401636      -0.989745  0.989745\n",
       "BWRPM -1.388313       1.067933  0.934441\n",
       "GPSUE -1.695344      -1.188076  1.415011\n",
       "QRPSN -0.731551       1.663920 -1.506134\n",
       "YQQAD -1.641947      -1.561852  0.160190\n",
       "PTDQE  0.934441      -1.508456 -0.200237\n",
       "\n",
       "[500 rows x 3 columns]"
      ]
     },
     "execution_count": 78,
     "metadata": {},
     "output_type": "execute_result"
    }
   ],
   "source": [
    "by_industry.apply(lambda x: zscore(x.rank()))"
   ]
  },
  {
   "cell_type": "markdown",
   "metadata": {},
   "source": [
    "## 分组因子暴露"
   ]
  },
  {
   "cell_type": "code",
   "execution_count": 79,
   "metadata": {
    "collapsed": true
   },
   "outputs": [],
   "source": [
    "from numpy.random import rand"
   ]
  },
  {
   "cell_type": "code",
   "execution_count": 80,
   "metadata": {
    "collapsed": true
   },
   "outputs": [],
   "source": [
    "fac1, fac2, fac3 = np.random.rand(3, 1000)"
   ]
  },
  {
   "cell_type": "code",
   "execution_count": 81,
   "metadata": {
    "collapsed": true
   },
   "outputs": [],
   "source": [
    "ticker_subset = tickers.take(np.random.permutation(N)[: 1000])"
   ]
  },
  {
   "cell_type": "code",
   "execution_count": 82,
   "metadata": {
    "collapsed": true
   },
   "outputs": [],
   "source": [
    "port = pd.Series(0.7 * fac1 - 1.2 * fac2 + 0.3 * fac3 + rand(1000), index = ticker_subset)"
   ]
  },
  {
   "cell_type": "code",
   "execution_count": 83,
   "metadata": {
    "collapsed": true
   },
   "outputs": [],
   "source": [
    "factors = pd.DataFrame({'f1': fac1, 'f2': fac2, 'f3': fac3}, index = ticker_subset)"
   ]
  },
  {
   "cell_type": "code",
   "execution_count": 84,
   "metadata": {
    "collapsed": false
   },
   "outputs": [
    {
     "data": {
      "text/plain": [
       "f1    0.353619\n",
       "f2   -0.717041\n",
       "f3    0.172634\n",
       "dtype: float64"
      ]
     },
     "execution_count": 84,
     "metadata": {},
     "output_type": "execute_result"
    }
   ],
   "source": [
    "factors.corrwith(port)"
   ]
  },
  {
   "cell_type": "code",
   "execution_count": 85,
   "metadata": {
    "collapsed": false
   },
   "outputs": [
    {
     "name": "stderr",
     "output_type": "stream",
     "text": [
      "/home/yi/anaconda2/lib/python2.7/site-packages/IPython/core/interactiveshell.py:2881: FutureWarning: The pandas.stats.ols module is deprecated and will be removed in a future version. We refer to external packages like statsmodels, see some examples here: http://www.statsmodels.org/stable/regression.html\n",
      "  exec(code_obj, self.user_global_ns, self.user_ns)\n"
     ]
    },
    {
     "data": {
      "text/plain": [
       "f1           0.673969\n",
       "f2          -1.271797\n",
       "f3           0.300569\n",
       "intercept    0.555939\n",
       "dtype: float64"
      ]
     },
     "execution_count": 85,
     "metadata": {},
     "output_type": "execute_result"
    }
   ],
   "source": [
    "pd.ols(y = port, x = factors).beta"
   ]
  },
  {
   "cell_type": "code",
   "execution_count": 86,
   "metadata": {
    "collapsed": true
   },
   "outputs": [],
   "source": [
    "def beta_exposure(chunk, factors = None):\n",
    "    return pd.ols(y = chunk, x = factors).beta"
   ]
  },
  {
   "cell_type": "code",
   "execution_count": 87,
   "metadata": {
    "collapsed": true
   },
   "outputs": [],
   "source": [
    "by_ind = port.groupby(industries)"
   ]
  },
  {
   "cell_type": "code",
   "execution_count": 88,
   "metadata": {
    "collapsed": false
   },
   "outputs": [
    {
     "name": "stderr",
     "output_type": "stream",
     "text": [
      "/home/yi/anaconda2/lib/python2.7/site-packages/pandas/core/groupby.py:685: FutureWarning: The pandas.stats.ols module is deprecated and will be removed in a future version. We refer to external packages like statsmodels, see some examples here: http://www.statsmodels.org/stable/regression.html\n",
      "  return func(g, *args, **kwargs)\n"
     ]
    }
   ],
   "source": [
    "exposures = by_ind.apply(beta_exposure, factors = factors)"
   ]
  },
  {
   "cell_type": "code",
   "execution_count": 89,
   "metadata": {
    "collapsed": false
   },
   "outputs": [
    {
     "data": {
      "text/html": [
       "<div>\n",
       "<table border=\"1\" class=\"dataframe\">\n",
       "  <thead>\n",
       "    <tr style=\"text-align: right;\">\n",
       "      <th></th>\n",
       "      <th>f1</th>\n",
       "      <th>f2</th>\n",
       "      <th>f3</th>\n",
       "      <th>intercept</th>\n",
       "    </tr>\n",
       "    <tr>\n",
       "      <th>industry</th>\n",
       "      <th></th>\n",
       "      <th></th>\n",
       "      <th></th>\n",
       "      <th></th>\n",
       "    </tr>\n",
       "  </thead>\n",
       "  <tbody>\n",
       "    <tr>\n",
       "      <th>FINANCIAL</th>\n",
       "      <td>0.664986</td>\n",
       "      <td>-1.241844</td>\n",
       "      <td>0.326426</td>\n",
       "      <td>0.528650</td>\n",
       "    </tr>\n",
       "    <tr>\n",
       "      <th>TECH</th>\n",
       "      <td>0.680113</td>\n",
       "      <td>-1.301434</td>\n",
       "      <td>0.277065</td>\n",
       "      <td>0.583116</td>\n",
       "    </tr>\n",
       "  </tbody>\n",
       "</table>\n",
       "</div>"
      ],
      "text/plain": [
       "                 f1        f2        f3  intercept\n",
       "industry                                          \n",
       "FINANCIAL  0.664986 -1.241844  0.326426   0.528650\n",
       "TECH       0.680113 -1.301434  0.277065   0.583116"
      ]
     },
     "execution_count": 89,
     "metadata": {},
     "output_type": "execute_result"
    }
   ],
   "source": [
    "exposures.unstack()"
   ]
  },
  {
   "cell_type": "markdown",
   "metadata": {},
   "source": [
    "## 十分位和四分位分析"
   ]
  },
  {
   "cell_type": "code",
   "execution_count": 90,
   "metadata": {
    "collapsed": true
   },
   "outputs": [],
   "source": [
    "data = data.get_data_yahoo('SPY', '2006-01-01')"
   ]
  },
  {
   "cell_type": "code",
   "execution_count": 91,
   "metadata": {
    "collapsed": false
   },
   "outputs": [
    {
     "data": {
      "text/html": [
       "<div>\n",
       "<table border=\"1\" class=\"dataframe\">\n",
       "  <thead>\n",
       "    <tr style=\"text-align: right;\">\n",
       "      <th></th>\n",
       "      <th>Open</th>\n",
       "      <th>High</th>\n",
       "      <th>Low</th>\n",
       "      <th>Close</th>\n",
       "      <th>Volume</th>\n",
       "      <th>Adj Close</th>\n",
       "    </tr>\n",
       "    <tr>\n",
       "      <th>Date</th>\n",
       "      <th></th>\n",
       "      <th></th>\n",
       "      <th></th>\n",
       "      <th></th>\n",
       "      <th></th>\n",
       "      <th></th>\n",
       "    </tr>\n",
       "  </thead>\n",
       "  <tbody>\n",
       "    <tr>\n",
       "      <th>2006-01-03</th>\n",
       "      <td>125.190002</td>\n",
       "      <td>127.000000</td>\n",
       "      <td>124.389999</td>\n",
       "      <td>126.699997</td>\n",
       "      <td>73256700</td>\n",
       "      <td>101.027353</td>\n",
       "    </tr>\n",
       "    <tr>\n",
       "      <th>2006-01-04</th>\n",
       "      <td>126.860001</td>\n",
       "      <td>127.489998</td>\n",
       "      <td>126.699997</td>\n",
       "      <td>127.300003</td>\n",
       "      <td>51899600</td>\n",
       "      <td>101.505782</td>\n",
       "    </tr>\n",
       "    <tr>\n",
       "      <th>2006-01-05</th>\n",
       "      <td>127.150002</td>\n",
       "      <td>127.589996</td>\n",
       "      <td>126.879997</td>\n",
       "      <td>127.379997</td>\n",
       "      <td>47307500</td>\n",
       "      <td>101.569568</td>\n",
       "    </tr>\n",
       "    <tr>\n",
       "      <th>2006-01-06</th>\n",
       "      <td>128.020004</td>\n",
       "      <td>128.580002</td>\n",
       "      <td>127.360001</td>\n",
       "      <td>128.440002</td>\n",
       "      <td>62885900</td>\n",
       "      <td>102.414789</td>\n",
       "    </tr>\n",
       "    <tr>\n",
       "      <th>2006-01-09</th>\n",
       "      <td>128.419998</td>\n",
       "      <td>129.059998</td>\n",
       "      <td>128.380005</td>\n",
       "      <td>128.770004</td>\n",
       "      <td>43527400</td>\n",
       "      <td>102.677924</td>\n",
       "    </tr>\n",
       "    <tr>\n",
       "      <th>2006-01-10</th>\n",
       "      <td>128.389999</td>\n",
       "      <td>128.979996</td>\n",
       "      <td>128.259995</td>\n",
       "      <td>128.899994</td>\n",
       "      <td>44960800</td>\n",
       "      <td>102.781574</td>\n",
       "    </tr>\n",
       "    <tr>\n",
       "      <th>2006-01-11</th>\n",
       "      <td>129.020004</td>\n",
       "      <td>129.440002</td>\n",
       "      <td>128.729996</td>\n",
       "      <td>129.309998</td>\n",
       "      <td>49598900</td>\n",
       "      <td>103.108501</td>\n",
       "    </tr>\n",
       "    <tr>\n",
       "      <th>2006-01-12</th>\n",
       "      <td>129.080002</td>\n",
       "      <td>129.279999</td>\n",
       "      <td>128.440002</td>\n",
       "      <td>128.800003</td>\n",
       "      <td>40509200</td>\n",
       "      <td>102.701844</td>\n",
       "    </tr>\n",
       "    <tr>\n",
       "      <th>2006-01-13</th>\n",
       "      <td>128.570007</td>\n",
       "      <td>128.899994</td>\n",
       "      <td>128.199997</td>\n",
       "      <td>128.679993</td>\n",
       "      <td>44856700</td>\n",
       "      <td>102.606151</td>\n",
       "    </tr>\n",
       "    <tr>\n",
       "      <th>2006-01-17</th>\n",
       "      <td>128.199997</td>\n",
       "      <td>128.419998</td>\n",
       "      <td>127.809998</td>\n",
       "      <td>128.330002</td>\n",
       "      <td>52066600</td>\n",
       "      <td>102.327077</td>\n",
       "    </tr>\n",
       "    <tr>\n",
       "      <th>2006-01-18</th>\n",
       "      <td>127.580002</td>\n",
       "      <td>128.899994</td>\n",
       "      <td>127.160004</td>\n",
       "      <td>127.820000</td>\n",
       "      <td>75067600</td>\n",
       "      <td>101.920414</td>\n",
       "    </tr>\n",
       "    <tr>\n",
       "      <th>2006-01-19</th>\n",
       "      <td>128.130005</td>\n",
       "      <td>128.770004</td>\n",
       "      <td>127.809998</td>\n",
       "      <td>128.309998</td>\n",
       "      <td>81530400</td>\n",
       "      <td>102.311126</td>\n",
       "    </tr>\n",
       "    <tr>\n",
       "      <th>2006-01-20</th>\n",
       "      <td>128.279999</td>\n",
       "      <td>128.309998</td>\n",
       "      <td>125.970001</td>\n",
       "      <td>125.970001</td>\n",
       "      <td>114957800</td>\n",
       "      <td>100.445273</td>\n",
       "    </tr>\n",
       "    <tr>\n",
       "      <th>2006-01-23</th>\n",
       "      <td>126.209999</td>\n",
       "      <td>126.820000</td>\n",
       "      <td>126.129997</td>\n",
       "      <td>126.419998</td>\n",
       "      <td>67017400</td>\n",
       "      <td>100.804089</td>\n",
       "    </tr>\n",
       "    <tr>\n",
       "      <th>2006-01-24</th>\n",
       "      <td>126.629997</td>\n",
       "      <td>127.150002</td>\n",
       "      <td>126.419998</td>\n",
       "      <td>126.550003</td>\n",
       "      <td>53008800</td>\n",
       "      <td>100.907751</td>\n",
       "    </tr>\n",
       "    <tr>\n",
       "      <th>2006-01-25</th>\n",
       "      <td>127.040001</td>\n",
       "      <td>127.180000</td>\n",
       "      <td>125.839996</td>\n",
       "      <td>126.660004</td>\n",
       "      <td>87747700</td>\n",
       "      <td>100.995463</td>\n",
       "    </tr>\n",
       "    <tr>\n",
       "      <th>2006-01-26</th>\n",
       "      <td>127.250000</td>\n",
       "      <td>127.669998</td>\n",
       "      <td>126.760002</td>\n",
       "      <td>127.360001</td>\n",
       "      <td>71294000</td>\n",
       "      <td>101.553623</td>\n",
       "    </tr>\n",
       "    <tr>\n",
       "      <th>2006-01-27</th>\n",
       "      <td>127.660004</td>\n",
       "      <td>128.660004</td>\n",
       "      <td>127.449997</td>\n",
       "      <td>128.539993</td>\n",
       "      <td>65771200</td>\n",
       "      <td>102.494519</td>\n",
       "    </tr>\n",
       "    <tr>\n",
       "      <th>2006-01-30</th>\n",
       "      <td>128.440002</td>\n",
       "      <td>128.809998</td>\n",
       "      <td>128.350006</td>\n",
       "      <td>128.440002</td>\n",
       "      <td>33709600</td>\n",
       "      <td>102.414789</td>\n",
       "    </tr>\n",
       "    <tr>\n",
       "      <th>2006-01-31</th>\n",
       "      <td>128.320007</td>\n",
       "      <td>128.539993</td>\n",
       "      <td>127.489998</td>\n",
       "      <td>127.500000</td>\n",
       "      <td>72937000</td>\n",
       "      <td>101.665255</td>\n",
       "    </tr>\n",
       "    <tr>\n",
       "      <th>2006-02-01</th>\n",
       "      <td>127.820000</td>\n",
       "      <td>128.429993</td>\n",
       "      <td>127.720001</td>\n",
       "      <td>128.389999</td>\n",
       "      <td>63561000</td>\n",
       "      <td>102.374918</td>\n",
       "    </tr>\n",
       "    <tr>\n",
       "      <th>2006-02-02</th>\n",
       "      <td>128.100006</td>\n",
       "      <td>128.139999</td>\n",
       "      <td>126.800003</td>\n",
       "      <td>126.900002</td>\n",
       "      <td>83626900</td>\n",
       "      <td>101.186831</td>\n",
       "    </tr>\n",
       "    <tr>\n",
       "      <th>2006-02-03</th>\n",
       "      <td>126.580002</td>\n",
       "      <td>128.389999</td>\n",
       "      <td>126.139999</td>\n",
       "      <td>126.269997</td>\n",
       "      <td>86040400</td>\n",
       "      <td>100.684481</td>\n",
       "    </tr>\n",
       "    <tr>\n",
       "      <th>2006-02-06</th>\n",
       "      <td>126.440002</td>\n",
       "      <td>126.800003</td>\n",
       "      <td>126.169998</td>\n",
       "      <td>126.599998</td>\n",
       "      <td>45511900</td>\n",
       "      <td>100.947616</td>\n",
       "    </tr>\n",
       "    <tr>\n",
       "      <th>2006-02-07</th>\n",
       "      <td>126.379997</td>\n",
       "      <td>126.660004</td>\n",
       "      <td>125.400002</td>\n",
       "      <td>125.480003</td>\n",
       "      <td>71208100</td>\n",
       "      <td>100.054561</td>\n",
       "    </tr>\n",
       "    <tr>\n",
       "      <th>2006-02-08</th>\n",
       "      <td>125.849998</td>\n",
       "      <td>128.100006</td>\n",
       "      <td>125.599998</td>\n",
       "      <td>126.620003</td>\n",
       "      <td>59422200</td>\n",
       "      <td>100.963567</td>\n",
       "    </tr>\n",
       "    <tr>\n",
       "      <th>2006-02-09</th>\n",
       "      <td>126.919998</td>\n",
       "      <td>127.599998</td>\n",
       "      <td>126.370003</td>\n",
       "      <td>126.410004</td>\n",
       "      <td>62023300</td>\n",
       "      <td>100.796119</td>\n",
       "    </tr>\n",
       "    <tr>\n",
       "      <th>2006-02-10</th>\n",
       "      <td>126.430000</td>\n",
       "      <td>127.129997</td>\n",
       "      <td>125.449997</td>\n",
       "      <td>126.639999</td>\n",
       "      <td>64508700</td>\n",
       "      <td>100.979512</td>\n",
       "    </tr>\n",
       "    <tr>\n",
       "      <th>2006-02-13</th>\n",
       "      <td>126.599998</td>\n",
       "      <td>126.790001</td>\n",
       "      <td>125.949997</td>\n",
       "      <td>126.410004</td>\n",
       "      <td>52308700</td>\n",
       "      <td>100.796119</td>\n",
       "    </tr>\n",
       "    <tr>\n",
       "      <th>2006-02-14</th>\n",
       "      <td>126.459999</td>\n",
       "      <td>128.029999</td>\n",
       "      <td>126.209999</td>\n",
       "      <td>127.750000</td>\n",
       "      <td>90964400</td>\n",
       "      <td>101.864598</td>\n",
       "    </tr>\n",
       "    <tr>\n",
       "      <th>...</th>\n",
       "      <td>...</td>\n",
       "      <td>...</td>\n",
       "      <td>...</td>\n",
       "      <td>...</td>\n",
       "      <td>...</td>\n",
       "      <td>...</td>\n",
       "    </tr>\n",
       "    <tr>\n",
       "      <th>2016-12-14</th>\n",
       "      <td>227.410004</td>\n",
       "      <td>228.229996</td>\n",
       "      <td>225.369995</td>\n",
       "      <td>225.880005</td>\n",
       "      <td>142501800</td>\n",
       "      <td>224.556449</td>\n",
       "    </tr>\n",
       "    <tr>\n",
       "      <th>2016-12-15</th>\n",
       "      <td>226.160004</td>\n",
       "      <td>227.809998</td>\n",
       "      <td>225.889999</td>\n",
       "      <td>226.809998</td>\n",
       "      <td>124972600</td>\n",
       "      <td>225.480992</td>\n",
       "    </tr>\n",
       "    <tr>\n",
       "      <th>2016-12-16</th>\n",
       "      <td>226.009995</td>\n",
       "      <td>226.080002</td>\n",
       "      <td>224.669998</td>\n",
       "      <td>225.039993</td>\n",
       "      <td>156420200</td>\n",
       "      <td>225.039993</td>\n",
       "    </tr>\n",
       "    <tr>\n",
       "      <th>2016-12-19</th>\n",
       "      <td>225.250000</td>\n",
       "      <td>226.020004</td>\n",
       "      <td>225.080002</td>\n",
       "      <td>225.529999</td>\n",
       "      <td>90341100</td>\n",
       "      <td>225.529999</td>\n",
       "    </tr>\n",
       "    <tr>\n",
       "      <th>2016-12-20</th>\n",
       "      <td>226.149994</td>\n",
       "      <td>226.570007</td>\n",
       "      <td>225.880005</td>\n",
       "      <td>226.399994</td>\n",
       "      <td>89838800</td>\n",
       "      <td>226.399994</td>\n",
       "    </tr>\n",
       "    <tr>\n",
       "      <th>2016-12-21</th>\n",
       "      <td>226.250000</td>\n",
       "      <td>226.449997</td>\n",
       "      <td>225.770004</td>\n",
       "      <td>225.770004</td>\n",
       "      <td>67909000</td>\n",
       "      <td>225.770004</td>\n",
       "    </tr>\n",
       "    <tr>\n",
       "      <th>2016-12-22</th>\n",
       "      <td>225.600006</td>\n",
       "      <td>225.740005</td>\n",
       "      <td>224.919998</td>\n",
       "      <td>225.380005</td>\n",
       "      <td>56219100</td>\n",
       "      <td>225.380005</td>\n",
       "    </tr>\n",
       "    <tr>\n",
       "      <th>2016-12-23</th>\n",
       "      <td>225.429993</td>\n",
       "      <td>225.720001</td>\n",
       "      <td>225.210007</td>\n",
       "      <td>225.710007</td>\n",
       "      <td>36251400</td>\n",
       "      <td>225.710007</td>\n",
       "    </tr>\n",
       "    <tr>\n",
       "      <th>2016-12-27</th>\n",
       "      <td>226.020004</td>\n",
       "      <td>226.729996</td>\n",
       "      <td>226.000000</td>\n",
       "      <td>226.270004</td>\n",
       "      <td>41054400</td>\n",
       "      <td>226.270004</td>\n",
       "    </tr>\n",
       "    <tr>\n",
       "      <th>2016-12-28</th>\n",
       "      <td>226.570007</td>\n",
       "      <td>226.589996</td>\n",
       "      <td>224.270004</td>\n",
       "      <td>224.399994</td>\n",
       "      <td>59776300</td>\n",
       "      <td>224.399994</td>\n",
       "    </tr>\n",
       "    <tr>\n",
       "      <th>2016-12-29</th>\n",
       "      <td>224.479996</td>\n",
       "      <td>224.889999</td>\n",
       "      <td>223.839996</td>\n",
       "      <td>224.350006</td>\n",
       "      <td>47719500</td>\n",
       "      <td>224.350006</td>\n",
       "    </tr>\n",
       "    <tr>\n",
       "      <th>2016-12-30</th>\n",
       "      <td>224.729996</td>\n",
       "      <td>224.830002</td>\n",
       "      <td>222.729996</td>\n",
       "      <td>223.529999</td>\n",
       "      <td>101301800</td>\n",
       "      <td>223.529999</td>\n",
       "    </tr>\n",
       "    <tr>\n",
       "      <th>2017-01-03</th>\n",
       "      <td>225.039993</td>\n",
       "      <td>225.830002</td>\n",
       "      <td>223.880005</td>\n",
       "      <td>225.240005</td>\n",
       "      <td>89895000</td>\n",
       "      <td>225.240005</td>\n",
       "    </tr>\n",
       "    <tr>\n",
       "      <th>2017-01-04</th>\n",
       "      <td>225.240005</td>\n",
       "      <td>226.750000</td>\n",
       "      <td>225.240005</td>\n",
       "      <td>226.580002</td>\n",
       "      <td>75801800</td>\n",
       "      <td>226.580002</td>\n",
       "    </tr>\n",
       "    <tr>\n",
       "      <th>2017-01-05</th>\n",
       "      <td>226.270004</td>\n",
       "      <td>226.580002</td>\n",
       "      <td>225.479996</td>\n",
       "      <td>226.399994</td>\n",
       "      <td>77145900</td>\n",
       "      <td>226.399994</td>\n",
       "    </tr>\n",
       "    <tr>\n",
       "      <th>2017-01-06</th>\n",
       "      <td>226.529999</td>\n",
       "      <td>227.750000</td>\n",
       "      <td>225.899994</td>\n",
       "      <td>227.210007</td>\n",
       "      <td>69536300</td>\n",
       "      <td>227.210007</td>\n",
       "    </tr>\n",
       "    <tr>\n",
       "      <th>2017-01-09</th>\n",
       "      <td>226.910004</td>\n",
       "      <td>227.070007</td>\n",
       "      <td>226.419998</td>\n",
       "      <td>226.460007</td>\n",
       "      <td>46265300</td>\n",
       "      <td>226.460007</td>\n",
       "    </tr>\n",
       "    <tr>\n",
       "      <th>2017-01-10</th>\n",
       "      <td>226.479996</td>\n",
       "      <td>227.449997</td>\n",
       "      <td>226.009995</td>\n",
       "      <td>226.460007</td>\n",
       "      <td>61045000</td>\n",
       "      <td>226.460007</td>\n",
       "    </tr>\n",
       "    <tr>\n",
       "      <th>2017-01-11</th>\n",
       "      <td>226.360001</td>\n",
       "      <td>227.100006</td>\n",
       "      <td>225.589996</td>\n",
       "      <td>227.100006</td>\n",
       "      <td>71423200</td>\n",
       "      <td>227.100006</td>\n",
       "    </tr>\n",
       "    <tr>\n",
       "      <th>2017-01-12</th>\n",
       "      <td>226.500000</td>\n",
       "      <td>226.750000</td>\n",
       "      <td>224.960007</td>\n",
       "      <td>226.529999</td>\n",
       "      <td>70354400</td>\n",
       "      <td>226.529999</td>\n",
       "    </tr>\n",
       "    <tr>\n",
       "      <th>2017-01-13</th>\n",
       "      <td>226.729996</td>\n",
       "      <td>227.399994</td>\n",
       "      <td>226.690002</td>\n",
       "      <td>227.050003</td>\n",
       "      <td>61907200</td>\n",
       "      <td>227.050003</td>\n",
       "    </tr>\n",
       "    <tr>\n",
       "      <th>2017-01-17</th>\n",
       "      <td>226.309998</td>\n",
       "      <td>226.779999</td>\n",
       "      <td>225.800003</td>\n",
       "      <td>226.250000</td>\n",
       "      <td>59261200</td>\n",
       "      <td>226.250000</td>\n",
       "    </tr>\n",
       "    <tr>\n",
       "      <th>2017-01-18</th>\n",
       "      <td>226.539993</td>\n",
       "      <td>226.800003</td>\n",
       "      <td>225.899994</td>\n",
       "      <td>226.750000</td>\n",
       "      <td>51146400</td>\n",
       "      <td>226.750000</td>\n",
       "    </tr>\n",
       "    <tr>\n",
       "      <th>2017-01-19</th>\n",
       "      <td>226.839996</td>\n",
       "      <td>227.000000</td>\n",
       "      <td>225.410004</td>\n",
       "      <td>225.910004</td>\n",
       "      <td>65357500</td>\n",
       "      <td>225.910004</td>\n",
       "    </tr>\n",
       "    <tr>\n",
       "      <th>2017-01-20</th>\n",
       "      <td>226.699997</td>\n",
       "      <td>227.309998</td>\n",
       "      <td>225.970001</td>\n",
       "      <td>226.740005</td>\n",
       "      <td>116431700</td>\n",
       "      <td>226.740005</td>\n",
       "    </tr>\n",
       "    <tr>\n",
       "      <th>2017-01-23</th>\n",
       "      <td>226.740005</td>\n",
       "      <td>226.809998</td>\n",
       "      <td>225.270004</td>\n",
       "      <td>226.149994</td>\n",
       "      <td>72331900</td>\n",
       "      <td>226.149994</td>\n",
       "    </tr>\n",
       "    <tr>\n",
       "      <th>2017-01-24</th>\n",
       "      <td>226.399994</td>\n",
       "      <td>228.080002</td>\n",
       "      <td>226.270004</td>\n",
       "      <td>227.600006</td>\n",
       "      <td>89144800</td>\n",
       "      <td>227.600006</td>\n",
       "    </tr>\n",
       "    <tr>\n",
       "      <th>2017-01-25</th>\n",
       "      <td>228.699997</td>\n",
       "      <td>229.570007</td>\n",
       "      <td>228.509995</td>\n",
       "      <td>229.570007</td>\n",
       "      <td>80932500</td>\n",
       "      <td>229.570007</td>\n",
       "    </tr>\n",
       "    <tr>\n",
       "      <th>2017-01-26</th>\n",
       "      <td>229.399994</td>\n",
       "      <td>229.710007</td>\n",
       "      <td>229.009995</td>\n",
       "      <td>229.330002</td>\n",
       "      <td>58208000</td>\n",
       "      <td>229.330002</td>\n",
       "    </tr>\n",
       "    <tr>\n",
       "      <th>2017-01-27</th>\n",
       "      <td>229.419998</td>\n",
       "      <td>229.589996</td>\n",
       "      <td>228.759995</td>\n",
       "      <td>228.970001</td>\n",
       "      <td>56311600</td>\n",
       "      <td>228.970001</td>\n",
       "    </tr>\n",
       "  </tbody>\n",
       "</table>\n",
       "<p>2787 rows × 6 columns</p>\n",
       "</div>"
      ],
      "text/plain": [
       "                  Open        High         Low       Close     Volume  \\\n",
       "Date                                                                    \n",
       "2006-01-03  125.190002  127.000000  124.389999  126.699997   73256700   \n",
       "2006-01-04  126.860001  127.489998  126.699997  127.300003   51899600   \n",
       "2006-01-05  127.150002  127.589996  126.879997  127.379997   47307500   \n",
       "2006-01-06  128.020004  128.580002  127.360001  128.440002   62885900   \n",
       "2006-01-09  128.419998  129.059998  128.380005  128.770004   43527400   \n",
       "2006-01-10  128.389999  128.979996  128.259995  128.899994   44960800   \n",
       "2006-01-11  129.020004  129.440002  128.729996  129.309998   49598900   \n",
       "2006-01-12  129.080002  129.279999  128.440002  128.800003   40509200   \n",
       "2006-01-13  128.570007  128.899994  128.199997  128.679993   44856700   \n",
       "2006-01-17  128.199997  128.419998  127.809998  128.330002   52066600   \n",
       "2006-01-18  127.580002  128.899994  127.160004  127.820000   75067600   \n",
       "2006-01-19  128.130005  128.770004  127.809998  128.309998   81530400   \n",
       "2006-01-20  128.279999  128.309998  125.970001  125.970001  114957800   \n",
       "2006-01-23  126.209999  126.820000  126.129997  126.419998   67017400   \n",
       "2006-01-24  126.629997  127.150002  126.419998  126.550003   53008800   \n",
       "2006-01-25  127.040001  127.180000  125.839996  126.660004   87747700   \n",
       "2006-01-26  127.250000  127.669998  126.760002  127.360001   71294000   \n",
       "2006-01-27  127.660004  128.660004  127.449997  128.539993   65771200   \n",
       "2006-01-30  128.440002  128.809998  128.350006  128.440002   33709600   \n",
       "2006-01-31  128.320007  128.539993  127.489998  127.500000   72937000   \n",
       "2006-02-01  127.820000  128.429993  127.720001  128.389999   63561000   \n",
       "2006-02-02  128.100006  128.139999  126.800003  126.900002   83626900   \n",
       "2006-02-03  126.580002  128.389999  126.139999  126.269997   86040400   \n",
       "2006-02-06  126.440002  126.800003  126.169998  126.599998   45511900   \n",
       "2006-02-07  126.379997  126.660004  125.400002  125.480003   71208100   \n",
       "2006-02-08  125.849998  128.100006  125.599998  126.620003   59422200   \n",
       "2006-02-09  126.919998  127.599998  126.370003  126.410004   62023300   \n",
       "2006-02-10  126.430000  127.129997  125.449997  126.639999   64508700   \n",
       "2006-02-13  126.599998  126.790001  125.949997  126.410004   52308700   \n",
       "2006-02-14  126.459999  128.029999  126.209999  127.750000   90964400   \n",
       "...                ...         ...         ...         ...        ...   \n",
       "2016-12-14  227.410004  228.229996  225.369995  225.880005  142501800   \n",
       "2016-12-15  226.160004  227.809998  225.889999  226.809998  124972600   \n",
       "2016-12-16  226.009995  226.080002  224.669998  225.039993  156420200   \n",
       "2016-12-19  225.250000  226.020004  225.080002  225.529999   90341100   \n",
       "2016-12-20  226.149994  226.570007  225.880005  226.399994   89838800   \n",
       "2016-12-21  226.250000  226.449997  225.770004  225.770004   67909000   \n",
       "2016-12-22  225.600006  225.740005  224.919998  225.380005   56219100   \n",
       "2016-12-23  225.429993  225.720001  225.210007  225.710007   36251400   \n",
       "2016-12-27  226.020004  226.729996  226.000000  226.270004   41054400   \n",
       "2016-12-28  226.570007  226.589996  224.270004  224.399994   59776300   \n",
       "2016-12-29  224.479996  224.889999  223.839996  224.350006   47719500   \n",
       "2016-12-30  224.729996  224.830002  222.729996  223.529999  101301800   \n",
       "2017-01-03  225.039993  225.830002  223.880005  225.240005   89895000   \n",
       "2017-01-04  225.240005  226.750000  225.240005  226.580002   75801800   \n",
       "2017-01-05  226.270004  226.580002  225.479996  226.399994   77145900   \n",
       "2017-01-06  226.529999  227.750000  225.899994  227.210007   69536300   \n",
       "2017-01-09  226.910004  227.070007  226.419998  226.460007   46265300   \n",
       "2017-01-10  226.479996  227.449997  226.009995  226.460007   61045000   \n",
       "2017-01-11  226.360001  227.100006  225.589996  227.100006   71423200   \n",
       "2017-01-12  226.500000  226.750000  224.960007  226.529999   70354400   \n",
       "2017-01-13  226.729996  227.399994  226.690002  227.050003   61907200   \n",
       "2017-01-17  226.309998  226.779999  225.800003  226.250000   59261200   \n",
       "2017-01-18  226.539993  226.800003  225.899994  226.750000   51146400   \n",
       "2017-01-19  226.839996  227.000000  225.410004  225.910004   65357500   \n",
       "2017-01-20  226.699997  227.309998  225.970001  226.740005  116431700   \n",
       "2017-01-23  226.740005  226.809998  225.270004  226.149994   72331900   \n",
       "2017-01-24  226.399994  228.080002  226.270004  227.600006   89144800   \n",
       "2017-01-25  228.699997  229.570007  228.509995  229.570007   80932500   \n",
       "2017-01-26  229.399994  229.710007  229.009995  229.330002   58208000   \n",
       "2017-01-27  229.419998  229.589996  228.759995  228.970001   56311600   \n",
       "\n",
       "             Adj Close  \n",
       "Date                    \n",
       "2006-01-03  101.027353  \n",
       "2006-01-04  101.505782  \n",
       "2006-01-05  101.569568  \n",
       "2006-01-06  102.414789  \n",
       "2006-01-09  102.677924  \n",
       "2006-01-10  102.781574  \n",
       "2006-01-11  103.108501  \n",
       "2006-01-12  102.701844  \n",
       "2006-01-13  102.606151  \n",
       "2006-01-17  102.327077  \n",
       "2006-01-18  101.920414  \n",
       "2006-01-19  102.311126  \n",
       "2006-01-20  100.445273  \n",
       "2006-01-23  100.804089  \n",
       "2006-01-24  100.907751  \n",
       "2006-01-25  100.995463  \n",
       "2006-01-26  101.553623  \n",
       "2006-01-27  102.494519  \n",
       "2006-01-30  102.414789  \n",
       "2006-01-31  101.665255  \n",
       "2006-02-01  102.374918  \n",
       "2006-02-02  101.186831  \n",
       "2006-02-03  100.684481  \n",
       "2006-02-06  100.947616  \n",
       "2006-02-07  100.054561  \n",
       "2006-02-08  100.963567  \n",
       "2006-02-09  100.796119  \n",
       "2006-02-10  100.979512  \n",
       "2006-02-13  100.796119  \n",
       "2006-02-14  101.864598  \n",
       "...                ...  \n",
       "2016-12-14  224.556449  \n",
       "2016-12-15  225.480992  \n",
       "2016-12-16  225.039993  \n",
       "2016-12-19  225.529999  \n",
       "2016-12-20  226.399994  \n",
       "2016-12-21  225.770004  \n",
       "2016-12-22  225.380005  \n",
       "2016-12-23  225.710007  \n",
       "2016-12-27  226.270004  \n",
       "2016-12-28  224.399994  \n",
       "2016-12-29  224.350006  \n",
       "2016-12-30  223.529999  \n",
       "2017-01-03  225.240005  \n",
       "2017-01-04  226.580002  \n",
       "2017-01-05  226.399994  \n",
       "2017-01-06  227.210007  \n",
       "2017-01-09  226.460007  \n",
       "2017-01-10  226.460007  \n",
       "2017-01-11  227.100006  \n",
       "2017-01-12  226.529999  \n",
       "2017-01-13  227.050003  \n",
       "2017-01-17  226.250000  \n",
       "2017-01-18  226.750000  \n",
       "2017-01-19  225.910004  \n",
       "2017-01-20  226.740005  \n",
       "2017-01-23  226.149994  \n",
       "2017-01-24  227.600006  \n",
       "2017-01-25  229.570007  \n",
       "2017-01-26  229.330002  \n",
       "2017-01-27  228.970001  \n",
       "\n",
       "[2787 rows x 6 columns]"
      ]
     },
     "execution_count": 91,
     "metadata": {},
     "output_type": "execute_result"
    }
   ],
   "source": [
    "data"
   ]
  },
  {
   "cell_type": "code",
   "execution_count": 92,
   "metadata": {
    "collapsed": true
   },
   "outputs": [],
   "source": [
    "px = data['Adj Close']"
   ]
  },
  {
   "cell_type": "code",
   "execution_count": 93,
   "metadata": {
    "collapsed": true
   },
   "outputs": [],
   "source": [
    "returns = px.pct_change()"
   ]
  },
  {
   "cell_type": "code",
   "execution_count": 94,
   "metadata": {
    "collapsed": true
   },
   "outputs": [],
   "source": [
    "def to_index(rets):\n",
    "    index = (1 + rets).cumprod()\n",
    "    first_loc = max(index.index.get_loc(index.notnull().argmax()) - 1,0)\n",
    "    index.values[first_loc] = 1\n",
    "    return index"
   ]
  },
  {
   "cell_type": "code",
   "execution_count": 95,
   "metadata": {
    "collapsed": false
   },
   "outputs": [],
   "source": [
    "def trend_signal(rets, lookback, lag):\n",
    "    signal = rets.rolling(lookback, lookback - 5).sum()\n",
    "    return signal.shift(lag)"
   ]
  },
  {
   "cell_type": "code",
   "execution_count": 96,
   "metadata": {
    "collapsed": false
   },
   "outputs": [],
   "source": [
    "signal = trend_signal(returns, 100, 3)"
   ]
  },
  {
   "cell_type": "code",
   "execution_count": 97,
   "metadata": {
    "collapsed": false
   },
   "outputs": [
    {
     "name": "stderr",
     "output_type": "stream",
     "text": [
      "/home/yi/anaconda2/lib/python2.7/site-packages/ipykernel/__main__.py:1: FutureWarning: \n",
      ".resample() is now a deferred operation\n",
      "You called resample(...) on this deferred object which materialized it into a series\n",
      "by implicitly taking the mean.  Use .resample(...).mean() instead\n",
      "  if __name__ == '__main__':\n"
     ]
    }
   ],
   "source": [
    "trade_friday = signal.resample('W-FRI').resample('B').ffill()"
   ]
  },
  {
   "cell_type": "code",
   "execution_count": 98,
   "metadata": {
    "collapsed": true
   },
   "outputs": [],
   "source": [
    "trade_rets = trade_friday.shift(1) * returns"
   ]
  },
  {
   "cell_type": "code",
   "execution_count": 99,
   "metadata": {
    "collapsed": false
   },
   "outputs": [
    {
     "data": {
      "text/plain": [
       "<matplotlib.axes._subplots.AxesSubplot at 0x7fe4556ac690>"
      ]
     },
     "execution_count": 99,
     "metadata": {},
     "output_type": "execute_result"
    },
    {
     "data": {
      "image/png": "[encoded data removed]",
      "text/plain": [
       "<matplotlib.figure.Figure at 0x7fe45572d210>"
      ]
     },
     "metadata": {},
     "output_type": "display_data"
    }
   ],
   "source": [
    "to_index(trade_rets).plot()"
   ]
  },
  {
   "cell_type": "code",
   "execution_count": 100,
   "metadata": {
    "collapsed": false
   },
   "outputs": [],
   "source": [
    "vol = trade_rets.rolling(250, 200).std() * np.sqrt(250)"
   ]
  },
  {
   "cell_type": "code",
   "execution_count": 101,
   "metadata": {
    "collapsed": true
   },
   "outputs": [],
   "source": [
    "def sharpe(rets, ann = 250):\n",
    "    return rets.mean() / rets.std() * np.sqrt(ann)"
   ]
  },
  {
   "cell_type": "code",
   "execution_count": 102,
   "metadata": {
    "collapsed": false
   },
   "outputs": [
    {
     "data": {
      "text/plain": [
       "Adj Close\n",
       "[0.00505, 0.00828]    0.245512\n",
       "(0.00828, 0.0116]     0.754116\n",
       "(0.0116, 0.018]       0.326496\n",
       "(0.018, 0.125]        0.290527\n",
       "Name: Adj Close, dtype: float64"
      ]
     },
     "execution_count": 102,
     "metadata": {},
     "output_type": "execute_result"
    }
   ],
   "source": [
    "trade_rets.groupby(pd.qcut(vol, 4)).agg(sharpe)"
   ]
  },
  {
   "cell_type": "code",
   "execution_count": null,
   "metadata": {
    "collapsed": true
   },
   "outputs": [],
   "source": []
  }
 ],
 "metadata": {
  "anaconda-cloud": {},
  "kernelspec": {
   "display_name": "Python [default]",
   "language": "python",
   "name": "python2"
  },
  "language_info": {
   "codemirror_mode": {
    "name": "ipython",
    "version": 2
   },
   "file_extension": ".py",
   "mimetype": "text/x-python",
   "name": "python",
   "nbconvert_exporter": "python",
   "pygments_lexer": "ipython2",
   "version": "2.7.12"
  }
 },
 "nbformat": 4,
 "nbformat_minor": 2
}
