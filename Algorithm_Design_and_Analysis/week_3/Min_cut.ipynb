{
 "cells": [
  {
   "cell_type": "code",
   "execution_count": 1,
   "metadata": {
    "collapsed": false
   },
   "outputs": [
    {
     "name": "stdout",
     "output_type": "stream",
     "text": [
      "Automatic pdb calling has been turned ON\n"
     ]
    }
   ],
   "source": [
    "import numpy as np\n",
    "import sys\n",
    "from copy import deepcopy\n",
    "%pdb"
   ]
  },
  {
   "cell_type": "code",
   "execution_count": 2,
   "metadata": {
    "collapsed": true
   },
   "outputs": [],
   "source": [
    "sys.setrecursionlimit(9999999)"
   ]
  },
  {
   "cell_type": "code",
   "execution_count": 3,
   "metadata": {
    "collapsed": false
   },
   "outputs": [],
   "source": [
    "adjacentlist = list()\n",
    "vertices = list()\n",
    "for line in list(open('kag.txt')):\n",
    "    adjacentlist.append([int(i) for i in line.strip().split()])\n",
    "    vertices.append(int(line.strip().split()[0]))"
   ]
  },
  {
   "cell_type": "code",
   "execution_count": 4,
   "metadata": {
    "collapsed": false
   },
   "outputs": [
    {
     "name": "stdout",
     "output_type": "stream",
     "text": [
      "[[1, 19, 15, 36, 23, 18, 39], [2, 36, 23, 4, 18, 26, 9], [3, 35, 6, 16, 11], [4, 23, 2, 18, 24], [5, 14, 8, 29, 21], [6, 34, 35, 3, 16], [7, 30, 33, 38, 28], [8, 12, 14, 5, 29, 31], [9, 39, 13, 20, 10, 17, 2], [10, 9, 20, 12, 14, 29], [11, 3, 16, 30, 33, 26], [12, 20, 10, 14, 8], [13, 24, 39, 9, 20], [14, 10, 12, 8, 5], [15, 26, 19, 1, 36], [16, 6, 3, 11, 30, 17, 35, 32], [17, 38, 28, 32, 40, 9, 16], [18, 2, 4, 24, 39, 1], [19, 27, 26, 15, 1], [20, 13, 9, 10, 12], [21, 5, 29, 25, 37], [22, 32, 40, 34, 35], [23, 1, 36, 2, 4], [24, 4, 18, 39, 13], [25, 29, 21, 37, 31], [26, 31, 27, 19, 15, 11, 2], [27, 37, 31, 26, 19, 29], [28, 7, 38, 17, 32], [29, 8, 5, 21, 25, 10, 27], [30, 16, 11, 33, 7, 37], [31, 25, 37, 27, 26, 8], [32, 28, 17, 40, 22, 16], [33, 11, 30, 7, 38], [34, 40, 22, 35, 6], [35, 22, 34, 6, 3, 16], [36, 15, 1, 23, 2], [37, 21, 25, 31, 27, 30], [38, 33, 7, 28, 17, 40], [39, 18, 24, 13, 9, 1], [40, 17, 32, 22, 34, 38]]\n"
     ]
    }
   ],
   "source": [
    "print adjacentlist"
   ]
  },
  {
   "cell_type": "code",
   "execution_count": 5,
   "metadata": {
    "collapsed": false
   },
   "outputs": [],
   "source": [
    "def rSelect(adl, ver):\n",
    "    adjacent = deepcopy(adl)\n",
    "    vertices = deepcopy(ver)\n",
    "    if len(vertices) == 2:\n",
    "        return adjacent, vertices\n",
    "    # randomly select one vertex\n",
    "    select_vert = adjacent[np.random.randint(0, len(vertices))]\n",
    "    vert_to_keep = select_vert[0]\n",
    "    # randomly select the other vertex\n",
    "    vert_to_remove = select_vert[np.random.randint(1, len(select_vert))]\n",
    "    # combine the two lists\n",
    "    index = vertices.index(vert_to_remove)\n",
    "    remove_vert = adjacent[index]\n",
    "    while vert_to_keep in remove_vert:\n",
    "        remove_vert.remove(vert_to_keep)\n",
    "    select_vert += adjacent[index]\n",
    "\n",
    "    while vert_to_remove in select_vert:\n",
    "        select_vert.remove(vert_to_remove)\n",
    "    # create new adjacent structure\n",
    "    new_ad = list()\n",
    "    for i in range(len(adjacent)):\n",
    "        if adjacent[i][0] == vert_to_keep:\n",
    "            new_ad.append(select_vert)\n",
    "        elif adjacent[i][0] == vert_to_remove:\n",
    "            continue\n",
    "        else:\n",
    "            new_ad.append([(vert_to_keep if v == vert_to_remove else v) for v in adjacent[i]])\n",
    "    vertices.remove(vert_to_remove)\n",
    "\n",
    "    new_ad, vertices = rSelect(new_ad, vertices)\n",
    "    return new_ad, vertices"
   ]
  },
  {
   "cell_type": "code",
   "execution_count": 6,
   "metadata": {
    "collapsed": false
   },
   "outputs": [
    {
     "name": "stdout",
     "output_type": "stream",
     "text": [
      "0\n",
      "1\n",
      "2\n",
      "3\n",
      "4\n",
      "5\n",
      "6\n",
      "7\n",
      "8\n",
      "9\n",
      "10\n",
      "11\n",
      "12\n",
      "13\n",
      "14\n",
      "15\n",
      "16\n",
      "17\n",
      "18\n",
      "19\n",
      "20\n",
      "21\n",
      "22\n",
      "23\n",
      "24\n",
      "25\n",
      "26\n",
      "27\n",
      "28\n",
      "29\n",
      "30\n",
      "31\n",
      "32\n",
      "33\n",
      "34\n",
      "35\n",
      "36\n",
      "37\n",
      "38\n",
      "39\n",
      "40\n",
      "41\n",
      "42\n",
      "43\n",
      "44\n",
      "45\n",
      "46\n",
      "47\n",
      "48\n",
      "49\n",
      "50\n",
      "51\n",
      "52\n",
      "53\n",
      "54\n",
      "55\n",
      "56\n",
      "57\n",
      "58\n",
      "59\n",
      "60\n",
      "61\n",
      "62\n",
      "63\n",
      "64\n",
      "65\n",
      "66\n",
      "67\n",
      "68\n",
      "69\n",
      "70\n",
      "71\n",
      "72\n",
      "73\n",
      "74\n",
      "75\n",
      "76\n",
      "77\n",
      "78\n",
      "79\n",
      "80\n",
      "81\n",
      "82\n",
      "83\n",
      "84\n",
      "85\n",
      "86\n",
      "87\n",
      "88\n",
      "89\n",
      "90\n",
      "91\n",
      "92\n",
      "93\n",
      "94\n",
      "95\n",
      "96\n",
      "97\n",
      "98\n",
      "99\n",
      "3\n"
     ]
    }
   ],
   "source": [
    "max_degree = 1000000000000\n",
    "save = list()\n",
    "for i in range(100):\n",
    "    if\n",
    "    print i\n",
    "    new_ad, ver = rSelect(adjacentlist, vertices)\n",
    "    if len(new_ad[0][1:]) < max_degree:\n",
    "        max_degree = len(new_ad[0][1:])\n",
    "        save = new_ad\n",
    "print max_degree"
   ]
  },
  {
   "cell_type": "code",
   "execution_count": 7,
   "metadata": {
    "collapsed": false
   },
   "outputs": [
    {
     "data": {
      "text/plain": [
       "[[9, 35, 35, 35], [35, 9, 9, 9]]"
      ]
     },
     "execution_count": 7,
     "metadata": {},
     "output_type": "execute_result"
    }
   ],
   "source": [
    "save"
   ]
  },
  {
   "cell_type": "code",
   "execution_count": 8,
   "metadata": {
    "collapsed": false
   },
   "outputs": [
    {
     "data": {
      "text/plain": [
       "[[1, 19, 15, 36, 23, 18, 39],\n",
       " [2, 36, 23, 4, 18, 26, 9],\n",
       " [3, 35, 6, 16, 11],\n",
       " [4, 23, 2, 18, 24],\n",
       " [5, 14, 8, 29, 21],\n",
       " [6, 34, 35, 3, 16],\n",
       " [7, 30, 33, 38, 28],\n",
       " [8, 12, 14, 5, 29, 31],\n",
       " [9, 39, 13, 20, 10, 17, 2],\n",
       " [10, 9, 20, 12, 14, 29],\n",
       " [11, 3, 16, 30, 33, 26],\n",
       " [12, 20, 10, 14, 8],\n",
       " [13, 24, 39, 9, 20],\n",
       " [14, 10, 12, 8, 5],\n",
       " [15, 26, 19, 1, 36],\n",
       " [16, 6, 3, 11, 30, 17, 35, 32],\n",
       " [17, 38, 28, 32, 40, 9, 16],\n",
       " [18, 2, 4, 24, 39, 1],\n",
       " [19, 27, 26, 15, 1],\n",
       " [20, 13, 9, 10, 12],\n",
       " [21, 5, 29, 25, 37],\n",
       " [22, 32, 40, 34, 35],\n",
       " [23, 1, 36, 2, 4],\n",
       " [24, 4, 18, 39, 13],\n",
       " [25, 29, 21, 37, 31],\n",
       " [26, 31, 27, 19, 15, 11, 2],\n",
       " [27, 37, 31, 26, 19, 29],\n",
       " [28, 7, 38, 17, 32],\n",
       " [29, 8, 5, 21, 25, 10, 27],\n",
       " [30, 16, 11, 33, 7, 37],\n",
       " [31, 25, 37, 27, 26, 8],\n",
       " [32, 28, 17, 40, 22, 16],\n",
       " [33, 11, 30, 7, 38],\n",
       " [34, 40, 22, 35, 6],\n",
       " [35, 22, 34, 6, 3, 16],\n",
       " [36, 15, 1, 23, 2],\n",
       " [37, 21, 25, 31, 27, 30],\n",
       " [38, 33, 7, 28, 17, 40],\n",
       " [39, 18, 24, 13, 9, 1],\n",
       " [40, 17, 32, 22, 34, 38]]"
      ]
     },
     "execution_count": 8,
     "metadata": {},
     "output_type": "execute_result"
    }
   ],
   "source": [
    "adjacentlist"
   ]
  },
  {
   "cell_type": "code",
   "execution_count": null,
   "metadata": {
    "collapsed": true
   },
   "outputs": [],
   "source": []
  }
 ],
 "metadata": {
  "kernelspec": {
   "display_name": "Python 2",
   "language": "python",
   "name": "python2"
  },
  "language_info": {
   "codemirror_mode": {
    "name": "ipython",
    "version": 2
   },
   "file_extension": ".py",
   "mimetype": "text/x-python",
   "name": "python",
   "nbconvert_exporter": "python",
   "pygments_lexer": "ipython2",
   "version": "2.7.12"
  }
 },
 "nbformat": 4,
 "nbformat_minor": 0
}
