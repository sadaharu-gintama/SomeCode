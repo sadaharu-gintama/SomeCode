{
 "cells": [
  {
   "cell_type": "code",
   "execution_count": 1,
   "metadata": {
    "collapsed": true
   },
   "outputs": [],
   "source": [
    "import numpy as np\n",
    "import sys\n",
    "sys.setrecursionlimit(99999999)"
   ]
  },
  {
   "cell_type": "code",
   "execution_count": 2,
   "metadata": {
    "collapsed": true
   },
   "outputs": [],
   "source": [
    "data = np.loadtxt('QuickSort.txt')"
   ]
  },
  {
   "cell_type": "code",
   "execution_count": 3,
   "metadata": {
    "collapsed": false
   },
   "outputs": [],
   "source": [
    "myArray = data.tolist()\n",
    "myArray_low = myArray[:]\n",
    "myArray_high = myArray[:]\n",
    "myArray_mid = myArray[:]"
   ]
  },
  {
   "cell_type": "code",
   "execution_count": 4,
   "metadata": {
    "collapsed": true
   },
   "outputs": [],
   "source": [
    "def swap(data, i, j):\n",
    "    temp = data[i]\n",
    "    data[i] = data[j]\n",
    "    data[j] = temp"
   ]
  },
  {
   "cell_type": "code",
   "execution_count": 5,
   "metadata": {
    "collapsed": true
   },
   "outputs": [],
   "source": [
    "def partition_low(data, lo, hi):\n",
    "    pivot = data[lo]\n",
    "    i = lo + 1\n",
    "    for j in range(lo + 1, hi):\n",
    "        if data[j] < pivot:\n",
    "            swap(data, i, j)\n",
    "            i += 1\n",
    "    swap(data, lo, i - 1)\n",
    "    return i, hi - lo - 1"
   ]
  },
  {
   "cell_type": "code",
   "execution_count": 6,
   "metadata": {
    "collapsed": true
   },
   "outputs": [],
   "source": [
    "def quicksort_low(data, lo, hi):\n",
    "    if lo == hi: return 0\n",
    "    j, count = partition_low(data, lo, hi)\n",
    "    count += quicksort_low(data, lo, j - 1)\n",
    "    count += quicksort_low(data, j, hi)\n",
    "    return count"
   ]
  },
  {
   "cell_type": "code",
   "execution_count": 7,
   "metadata": {
    "collapsed": false
   },
   "outputs": [
    {
     "name": "stdout",
     "output_type": "stream",
     "text": [
      "162085\n"
     ]
    }
   ],
   "source": [
    "print quicksort_low(myArray_low, 0, len(myArray))"
   ]
  },
  {
   "cell_type": "code",
   "execution_count": 8,
   "metadata": {
    "collapsed": false
   },
   "outputs": [],
   "source": [
    "def partition_high(data, lo, hi):\n",
    "    swap(data, lo, hi - 1)\n",
    "    pivot = data[lo]\n",
    "    i = lo + 1\n",
    "    for j in range(lo + 1, hi):\n",
    "        if data[j] < pivot:\n",
    "            swap(data, i, j)\n",
    "            i += 1\n",
    "    swap(data, lo, i - 1)\n",
    "    return i, hi - lo - 1"
   ]
  },
  {
   "cell_type": "code",
   "execution_count": 9,
   "metadata": {
    "collapsed": true
   },
   "outputs": [],
   "source": [
    "def quicksort_high(data, lo, hi):\n",
    "    if lo == hi: return 0\n",
    "    j, count = partition_high(data, lo, hi)\n",
    "    count += quicksort_high(data, lo, j - 1)\n",
    "    count += quicksort_high(data, j, hi)\n",
    "    return count"
   ]
  },
  {
   "cell_type": "code",
   "execution_count": 10,
   "metadata": {
    "collapsed": false
   },
   "outputs": [
    {
     "name": "stdout",
     "output_type": "stream",
     "text": [
      "164123\n"
     ]
    }
   ],
   "source": [
    "print quicksort_high(myArray_high, 0, len(myArray))"
   ]
  },
  {
   "cell_type": "code",
   "execution_count": 11,
   "metadata": {
    "collapsed": true
   },
   "outputs": [],
   "source": [
    "def partition_mid(data, lo, hi):\n",
    "    # find the median\n",
    "    myList = [(lo, data[lo]), ((lo + hi - 1) / 2, data[(lo + hi - 1) / 2]), (hi - 1, data[hi - 1])]\n",
    "    sortedIndex = [i[0] for i in sorted(myList, key=lambda x:x[1])]\n",
    "    index = sortedIndex[1]\n",
    "    swap(data, lo, index)\n",
    "    pivot = data[lo]\n",
    "    i = lo + 1\n",
    "    for j in range(lo + 1, hi):\n",
    "        if data[j] < pivot:\n",
    "            swap(data, i, j)\n",
    "            i += 1\n",
    "    swap(data, lo, i - 1)\n",
    "    return i, hi - lo - 1"
   ]
  },
  {
   "cell_type": "code",
   "execution_count": 12,
   "metadata": {
    "collapsed": true
   },
   "outputs": [],
   "source": [
    "def quicksort_mid(data, lo, hi):\n",
    "    if lo == hi: return 0\n",
    "    j, count = partition_mid(data, lo, hi)\n",
    "    count += quicksort_mid(data, lo, j - 1)\n",
    "    count += quicksort_mid(data, j, hi)\n",
    "    return count"
   ]
  },
  {
   "cell_type": "code",
   "execution_count": 13,
   "metadata": {
    "collapsed": false
   },
   "outputs": [
    {
     "name": "stdout",
     "output_type": "stream",
     "text": [
      "138382\n"
     ]
    }
   ],
   "source": [
    "print quicksort_mid(myArray_mid, 0, len(myArray))"
   ]
  },
  {
   "cell_type": "code",
   "execution_count": null,
   "metadata": {
    "collapsed": true
   },
   "outputs": [],
   "source": []
  }
 ],
 "metadata": {
  "kernelspec": {
   "display_name": "Python 2",
   "language": "python",
   "name": "python2"
  },
  "language_info": {
   "codemirror_mode": {
    "name": "ipython",
    "version": 2
   },
   "file_extension": ".py",
   "mimetype": "text/x-python",
   "name": "python",
   "nbconvert_exporter": "python",
   "pygments_lexer": "ipython2",
   "version": "2.7.12"
  }
 },
 "nbformat": 4,
 "nbformat_minor": 0
}
